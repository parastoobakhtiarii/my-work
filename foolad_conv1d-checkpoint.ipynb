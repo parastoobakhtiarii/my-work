{
 "cells": [
  {
   "cell_type": "code",
   "execution_count": 29,
   "metadata": {},
   "outputs": [],
   "source": [
    "import numpy as np\n",
    "import pandas as pd\n",
    "from keras.layers import Dense, Dropout, Activation, LSTM, Convolution1D, MaxPooling1D, Flatten\n",
    "from keras.models import Sequential\n",
    "import matplotlib.pyplot as plt\n",
    "%matplotlib inline"
   ]
  },
  {
   "cell_type": "code",
   "execution_count": 30,
   "metadata": {
    "tags": []
   },
   "outputs": [],
   "source": [
    "## Data preparation"
   ]
  },
  {
   "cell_type": "code",
   "execution_count": 31,
   "metadata": {},
   "outputs": [
    {
     "data": {
      "text/html": [
       "<div>\n",
       "<style scoped>\n",
       "    .dataframe tbody tr th:only-of-type {\n",
       "        vertical-align: middle;\n",
       "    }\n",
       "\n",
       "    .dataframe tbody tr th {\n",
       "        vertical-align: top;\n",
       "    }\n",
       "\n",
       "    .dataframe thead th {\n",
       "        text-align: right;\n",
       "    }\n",
       "</style>\n",
       "<table border=\"1\" class=\"dataframe\">\n",
       "  <thead>\n",
       "    <tr style=\"text-align: right;\">\n",
       "      <th></th>\n",
       "      <th>date</th>\n",
       "      <th>Open</th>\n",
       "      <th>High</th>\n",
       "      <th>Low</th>\n",
       "      <th>Close</th>\n",
       "      <th>Volume</th>\n",
       "    </tr>\n",
       "  </thead>\n",
       "  <tbody>\n",
       "    <tr>\n",
       "      <th>0</th>\n",
       "      <td>20220622</td>\n",
       "      <td>11460</td>\n",
       "      <td>11550</td>\n",
       "      <td>11310</td>\n",
       "      <td>11440</td>\n",
       "      <td>43038062</td>\n",
       "    </tr>\n",
       "    <tr>\n",
       "      <th>1</th>\n",
       "      <td>20220621</td>\n",
       "      <td>11580</td>\n",
       "      <td>11610</td>\n",
       "      <td>11460</td>\n",
       "      <td>11550</td>\n",
       "      <td>42656631</td>\n",
       "    </tr>\n",
       "    <tr>\n",
       "      <th>2</th>\n",
       "      <td>20220620</td>\n",
       "      <td>11590</td>\n",
       "      <td>11740</td>\n",
       "      <td>11580</td>\n",
       "      <td>11620</td>\n",
       "      <td>49782910</td>\n",
       "    </tr>\n",
       "    <tr>\n",
       "      <th>3</th>\n",
       "      <td>20220619</td>\n",
       "      <td>11660</td>\n",
       "      <td>11740</td>\n",
       "      <td>11560</td>\n",
       "      <td>11610</td>\n",
       "      <td>45368856</td>\n",
       "    </tr>\n",
       "    <tr>\n",
       "      <th>4</th>\n",
       "      <td>20220618</td>\n",
       "      <td>11650</td>\n",
       "      <td>11750</td>\n",
       "      <td>11550</td>\n",
       "      <td>11610</td>\n",
       "      <td>60658889</td>\n",
       "    </tr>\n",
       "    <tr>\n",
       "      <th>...</th>\n",
       "      <td>...</td>\n",
       "      <td>...</td>\n",
       "      <td>...</td>\n",
       "      <td>...</td>\n",
       "      <td>...</td>\n",
       "      <td>...</td>\n",
       "    </tr>\n",
       "    <tr>\n",
       "      <th>3532</th>\n",
       "      <td>20070627</td>\n",
       "      <td>2070</td>\n",
       "      <td>2070</td>\n",
       "      <td>2052</td>\n",
       "      <td>2061</td>\n",
       "      <td>4943752</td>\n",
       "    </tr>\n",
       "    <tr>\n",
       "      <th>3533</th>\n",
       "      <td>20070626</td>\n",
       "      <td>2137</td>\n",
       "      <td>2137</td>\n",
       "      <td>2065</td>\n",
       "      <td>2093</td>\n",
       "      <td>9614186</td>\n",
       "    </tr>\n",
       "    <tr>\n",
       "      <th>3534</th>\n",
       "      <td>20070625</td>\n",
       "      <td>2065</td>\n",
       "      <td>2097</td>\n",
       "      <td>2062</td>\n",
       "      <td>2096</td>\n",
       "      <td>10909057</td>\n",
       "    </tr>\n",
       "    <tr>\n",
       "      <th>3535</th>\n",
       "      <td>20070624</td>\n",
       "      <td>2030</td>\n",
       "      <td>2068</td>\n",
       "      <td>2026</td>\n",
       "      <td>2056</td>\n",
       "      <td>7875528</td>\n",
       "    </tr>\n",
       "    <tr>\n",
       "      <th>3536</th>\n",
       "      <td>20070623</td>\n",
       "      <td>2000</td>\n",
       "      <td>2030</td>\n",
       "      <td>1995</td>\n",
       "      <td>2028</td>\n",
       "      <td>9940077</td>\n",
       "    </tr>\n",
       "  </tbody>\n",
       "</table>\n",
       "<p>3537 rows × 6 columns</p>\n",
       "</div>"
      ],
      "text/plain": [
       "          date   Open   High    Low  Close    Volume\n",
       "0     20220622  11460  11550  11310  11440  43038062\n",
       "1     20220621  11580  11610  11460  11550  42656631\n",
       "2     20220620  11590  11740  11580  11620  49782910\n",
       "3     20220619  11660  11740  11560  11610  45368856\n",
       "4     20220618  11650  11750  11550  11610  60658889\n",
       "...        ...    ...    ...    ...    ...       ...\n",
       "3532  20070627   2070   2070   2052   2061   4943752\n",
       "3533  20070626   2137   2137   2065   2093   9614186\n",
       "3534  20070625   2065   2097   2062   2096  10909057\n",
       "3535  20070624   2030   2068   2026   2056   7875528\n",
       "3536  20070623   2000   2030   1995   2028   9940077\n",
       "\n",
       "[3537 rows x 6 columns]"
      ]
     },
     "execution_count": 31,
     "metadata": {},
     "output_type": "execute_result"
    }
   ],
   "source": [
    "data = pd.read_excel (r'C:\\Users\\Parastoo\\OneDrive\\Desktop\\fooladtest2.xlsx')\n",
    "data"
   ]
  },
  {
   "cell_type": "code",
   "execution_count": 32,
   "metadata": {},
   "outputs": [
    {
     "data": {
      "text/html": [
       "<div>\n",
       "<style scoped>\n",
       "    .dataframe tbody tr th:only-of-type {\n",
       "        vertical-align: middle;\n",
       "    }\n",
       "\n",
       "    .dataframe tbody tr th {\n",
       "        vertical-align: top;\n",
       "    }\n",
       "\n",
       "    .dataframe thead th {\n",
       "        text-align: right;\n",
       "    }\n",
       "</style>\n",
       "<table border=\"1\" class=\"dataframe\">\n",
       "  <thead>\n",
       "    <tr style=\"text-align: right;\">\n",
       "      <th></th>\n",
       "      <th>date</th>\n",
       "      <th>Open</th>\n",
       "      <th>High</th>\n",
       "      <th>Low</th>\n",
       "      <th>Close</th>\n",
       "      <th>Volume</th>\n",
       "    </tr>\n",
       "  </thead>\n",
       "  <tbody>\n",
       "    <tr>\n",
       "      <th>3532</th>\n",
       "      <td>20070627</td>\n",
       "      <td>2070</td>\n",
       "      <td>2070</td>\n",
       "      <td>2052</td>\n",
       "      <td>2061</td>\n",
       "      <td>4943752</td>\n",
       "    </tr>\n",
       "    <tr>\n",
       "      <th>3533</th>\n",
       "      <td>20070626</td>\n",
       "      <td>2137</td>\n",
       "      <td>2137</td>\n",
       "      <td>2065</td>\n",
       "      <td>2093</td>\n",
       "      <td>9614186</td>\n",
       "    </tr>\n",
       "    <tr>\n",
       "      <th>3534</th>\n",
       "      <td>20070625</td>\n",
       "      <td>2065</td>\n",
       "      <td>2097</td>\n",
       "      <td>2062</td>\n",
       "      <td>2096</td>\n",
       "      <td>10909057</td>\n",
       "    </tr>\n",
       "    <tr>\n",
       "      <th>3535</th>\n",
       "      <td>20070624</td>\n",
       "      <td>2030</td>\n",
       "      <td>2068</td>\n",
       "      <td>2026</td>\n",
       "      <td>2056</td>\n",
       "      <td>7875528</td>\n",
       "    </tr>\n",
       "    <tr>\n",
       "      <th>3536</th>\n",
       "      <td>20070623</td>\n",
       "      <td>2000</td>\n",
       "      <td>2030</td>\n",
       "      <td>1995</td>\n",
       "      <td>2028</td>\n",
       "      <td>9940077</td>\n",
       "    </tr>\n",
       "  </tbody>\n",
       "</table>\n",
       "</div>"
      ],
      "text/plain": [
       "          date  Open  High   Low  Close    Volume\n",
       "3532  20070627  2070  2070  2052   2061   4943752\n",
       "3533  20070626  2137  2137  2065   2093   9614186\n",
       "3534  20070625  2065  2097  2062   2096  10909057\n",
       "3535  20070624  2030  2068  2026   2056   7875528\n",
       "3536  20070623  2000  2030  1995   2028   9940077"
      ]
     },
     "execution_count": 32,
     "metadata": {},
     "output_type": "execute_result"
    }
   ],
   "source": [
    "data= data.dropna(axis=0)\n",
    "data.tail()"
   ]
  },
  {
   "cell_type": "code",
   "execution_count": 33,
   "metadata": {},
   "outputs": [
    {
     "name": "stdout",
     "output_type": "stream",
     "text": [
      "(3537, 4)\n"
     ]
    }
   ],
   "source": [
    "data= data.values[:, 1:5]\n",
    "print (data.shape)"
   ]
  },
  {
   "cell_type": "code",
   "execution_count": 34,
   "metadata": {},
   "outputs": [
    {
     "name": "stdout",
     "output_type": "stream",
     "text": [
      "[[11460 11550 11310 11440]\n",
      " [11580 11610 11460 11550]\n",
      " [11590 11740 11580 11620]\n",
      " [11660 11740 11560 11610]\n",
      " [11650 11750 11550 11610]\n",
      " [11730 11990 11580 11710]]\n"
     ]
    }
   ],
   "source": [
    "print (data[:6, :])"
   ]
  },
  {
   "cell_type": "code",
   "execution_count": 35,
   "metadata": {},
   "outputs": [
    {
     "name": "stdout",
     "output_type": "stream",
     "text": [
      "(3536,)\n",
      "(3536, 4)\n"
     ]
    }
   ],
   "source": [
    "y= data[1:, 3]\n",
    "print (y.shape)\n",
    "X= data[:3536,:]\n",
    "print (X.shape)"
   ]
  },
  {
   "cell_type": "code",
   "execution_count": 36,
   "metadata": {},
   "outputs": [],
   "source": [
    "y= (y- min(y))/(max(y)- min(y))\n",
    "#print y[4270:]\n",
    "#print y[:7]"
   ]
  },
  {
   "cell_type": "code",
   "execution_count": 37,
   "metadata": {},
   "outputs": [
    {
     "name": "stdout",
     "output_type": "stream",
     "text": [
      "(3536, 4)\n",
      "[[0.48974359 0.46535052 0.49388646 0.46110694]\n",
      " [0.49487179 0.46776793 0.50043668 0.46596581]\n",
      " [0.49529915 0.47300564 0.50567686 0.46905782]]\n"
     ]
    }
   ],
   "source": [
    "X= (X- np.min(X,axis=0))/(np.max(X, axis=0)-np.min(X,axis=0))\n",
    "print (X.shape)\n",
    "print (X[:3, :])"
   ]
  },
  {
   "cell_type": "code",
   "execution_count": 38,
   "metadata": {
    "tags": []
   },
   "outputs": [],
   "source": [
    "## Sequence data preparation"
   ]
  },
  {
   "cell_type": "code",
   "execution_count": 39,
   "metadata": {},
   "outputs": [
    {
     "name": "stdout",
     "output_type": "stream",
     "text": [
      "(3437, 100, 4) (3437,)\n"
     ]
    }
   ],
   "source": [
    "time_steps= 100\n",
    "X_new= np.zeros((X.shape[0] - time_steps +1, 100, X.shape[1]))\n",
    "y_new= np.zeros((y.shape[0] -time_steps +1,))\n",
    "for ix in range(X_new.shape[0]):\n",
    "    for jx in range(time_steps):\n",
    "        X_new[ix, jx, :]= X[ix +jx, :]\n",
    "    y_new[ix]= y[ix + time_steps -1 ]\n",
    "print (X_new.shape, y_new.shape)"
   ]
  },
  {
   "cell_type": "code",
   "execution_count": 40,
   "metadata": {
    "tags": []
   },
   "outputs": [],
   "source": [
    "## split into train and test sets"
   ]
  },
  {
   "cell_type": "code",
   "execution_count": 41,
   "metadata": {},
   "outputs": [
    {
     "name": "stdout",
     "output_type": "stream",
     "text": [
      "(2829, 100, 4) (2829,)\n",
      "(608, 100, 4) (608,)\n"
     ]
    }
   ],
   "source": [
    "split = int(0.8*data.shape[0])\n",
    "X_train = X_new[:split]\n",
    "X_test = X_new[split:]\n",
    "\n",
    "y_train = y_new[:split]\n",
    "y_test = y_new[split:]\n",
    "\n",
    "print (X_train.shape, y_train.shape)\n",
    "print (X_test.shape, y_test.shape)"
   ]
  },
  {
   "cell_type": "code",
   "execution_count": 42,
   "metadata": {
    "tags": []
   },
   "outputs": [],
   "source": [
    "## Model fitting"
   ]
  },
  {
   "cell_type": "code",
   "execution_count": 43,
   "metadata": {},
   "outputs": [
    {
     "name": "stdout",
     "output_type": "stream",
     "text": [
      "Model: \"sequential\"\n",
      "_________________________________________________________________\n",
      " Layer (type)                Output Shape              Param #   \n",
      "=================================================================\n",
      " conv1d (Conv1D)             (None, 100, 64)           832       \n",
      "                                                                 \n",
      " max_pooling1d (MaxPooling1D  (None, 50, 64)           0         \n",
      " )                                                               \n",
      "                                                                 \n",
      " conv1d_1 (Conv1D)           (None, 50, 32)            6176      \n",
      "                                                                 \n",
      " max_pooling1d_1 (MaxPooling  (None, 25, 32)           0         \n",
      " 1D)                                                             \n",
      "                                                                 \n",
      " flatten (Flatten)           (None, 800)               0         \n",
      "                                                                 \n",
      " dense (Dense)               (None, 1)                 801       \n",
      "                                                                 \n",
      " activation (Activation)     (None, 1)                 0         \n",
      "                                                                 \n",
      "=================================================================\n",
      "Total params: 7,809\n",
      "Trainable params: 7,809\n",
      "Non-trainable params: 0\n",
      "_________________________________________________________________\n"
     ]
    }
   ],
   "source": [
    "model = Sequential()\n",
    "model.add(Convolution1D(64, 3, input_shape= (100,4), padding='same'))\n",
    "model.add(MaxPooling1D(pool_size=2))\n",
    "model.add(Convolution1D(32, 3, padding='same'))\n",
    "model.add(MaxPooling1D(pool_size=2))\n",
    "model.add(Flatten())\n",
    "model.add(Dense(units=1))\n",
    "model.add(Activation('linear'))\n",
    "\n",
    "model.summary()"
   ]
  },
  {
   "cell_type": "code",
   "execution_count": 44,
   "metadata": {},
   "outputs": [],
   "source": [
    "model.compile(loss='mse', optimizer='rmsprop', metrics=['accuracy'])"
   ]
  },
  {
   "cell_type": "code",
   "execution_count": 45,
   "metadata": {},
   "outputs": [
    {
     "name": "stdout",
     "output_type": "stream",
     "text": [
      "Epoch 1/50\n",
      "12/12 - 1s - loss: 0.0167 - accuracy: 7.0696e-04 - val_loss: 9.9951e-04 - val_accuracy: 0.0000e+00 - 1s/epoch - 96ms/step\n",
      "Epoch 2/50\n",
      "12/12 - 0s - loss: 0.0040 - accuracy: 7.0696e-04 - val_loss: 0.0016 - val_accuracy: 0.0000e+00 - 245ms/epoch - 20ms/step\n",
      "Epoch 3/50\n",
      "12/12 - 0s - loss: 0.0044 - accuracy: 7.0696e-04 - val_loss: 0.0011 - val_accuracy: 0.0000e+00 - 247ms/epoch - 21ms/step\n",
      "Epoch 4/50\n",
      "12/12 - 0s - loss: 0.0031 - accuracy: 7.0696e-04 - val_loss: 7.7266e-04 - val_accuracy: 0.0000e+00 - 249ms/epoch - 21ms/step\n",
      "Epoch 5/50\n",
      "12/12 - 0s - loss: 0.0028 - accuracy: 7.0696e-04 - val_loss: 3.6915e-04 - val_accuracy: 0.0000e+00 - 256ms/epoch - 21ms/step\n",
      "Epoch 6/50\n",
      "12/12 - 0s - loss: 0.0024 - accuracy: 7.0696e-04 - val_loss: 5.4186e-04 - val_accuracy: 0.0000e+00 - 246ms/epoch - 20ms/step\n",
      "Epoch 7/50\n",
      "12/12 - 0s - loss: 0.0018 - accuracy: 7.0696e-04 - val_loss: 5.2030e-04 - val_accuracy: 0.0000e+00 - 246ms/epoch - 20ms/step\n",
      "Epoch 8/50\n",
      "12/12 - 0s - loss: 0.0017 - accuracy: 7.0696e-04 - val_loss: 3.4491e-04 - val_accuracy: 0.0000e+00 - 246ms/epoch - 20ms/step\n",
      "Epoch 9/50\n",
      "12/12 - 0s - loss: 0.0014 - accuracy: 7.0696e-04 - val_loss: 3.0497e-04 - val_accuracy: 0.0000e+00 - 253ms/epoch - 21ms/step\n",
      "Epoch 10/50\n",
      "12/12 - 0s - loss: 0.0011 - accuracy: 7.0696e-04 - val_loss: 2.1571e-04 - val_accuracy: 0.0000e+00 - 247ms/epoch - 21ms/step\n",
      "Epoch 11/50\n",
      "12/12 - 0s - loss: 0.0016 - accuracy: 7.0696e-04 - val_loss: 3.6276e-04 - val_accuracy: 0.0000e+00 - 249ms/epoch - 21ms/step\n",
      "Epoch 12/50\n",
      "12/12 - 0s - loss: 0.0011 - accuracy: 7.0696e-04 - val_loss: 4.2587e-04 - val_accuracy: 0.0000e+00 - 247ms/epoch - 21ms/step\n",
      "Epoch 13/50\n",
      "12/12 - 0s - loss: 0.0012 - accuracy: 7.0696e-04 - val_loss: 3.1016e-04 - val_accuracy: 0.0000e+00 - 254ms/epoch - 21ms/step\n",
      "Epoch 14/50\n",
      "12/12 - 0s - loss: 0.0011 - accuracy: 7.0696e-04 - val_loss: 2.3114e-04 - val_accuracy: 0.0000e+00 - 247ms/epoch - 21ms/step\n",
      "Epoch 15/50\n",
      "12/12 - 0s - loss: 0.0012 - accuracy: 7.0696e-04 - val_loss: 2.9173e-04 - val_accuracy: 0.0000e+00 - 245ms/epoch - 20ms/step\n",
      "Epoch 16/50\n",
      "12/12 - 0s - loss: 7.4196e-04 - accuracy: 7.0696e-04 - val_loss: 3.1165e-04 - val_accuracy: 0.0000e+00 - 258ms/epoch - 21ms/step\n",
      "Epoch 17/50\n",
      "12/12 - 0s - loss: 6.4835e-04 - accuracy: 7.0696e-04 - val_loss: 2.9991e-04 - val_accuracy: 0.0000e+00 - 250ms/epoch - 21ms/step\n",
      "Epoch 18/50\n",
      "12/12 - 0s - loss: 0.0014 - accuracy: 7.0696e-04 - val_loss: 2.0046e-04 - val_accuracy: 0.0000e+00 - 245ms/epoch - 20ms/step\n",
      "Epoch 19/50\n",
      "12/12 - 0s - loss: 6.8526e-04 - accuracy: 7.0696e-04 - val_loss: 4.9160e-04 - val_accuracy: 0.0000e+00 - 247ms/epoch - 21ms/step\n",
      "Epoch 20/50\n",
      "12/12 - 0s - loss: 6.3879e-04 - accuracy: 7.0696e-04 - val_loss: 3.5205e-04 - val_accuracy: 0.0000e+00 - 247ms/epoch - 21ms/step\n",
      "Epoch 21/50\n",
      "12/12 - 0s - loss: 0.0011 - accuracy: 7.0696e-04 - val_loss: 1.7854e-04 - val_accuracy: 0.0000e+00 - 248ms/epoch - 21ms/step\n",
      "Epoch 22/50\n",
      "12/12 - 0s - loss: 7.9735e-04 - accuracy: 7.0696e-04 - val_loss: 1.7678e-04 - val_accuracy: 0.0000e+00 - 248ms/epoch - 21ms/step\n",
      "Epoch 23/50\n",
      "12/12 - 0s - loss: 6.7298e-04 - accuracy: 7.0696e-04 - val_loss: 3.8862e-04 - val_accuracy: 0.0000e+00 - 247ms/epoch - 21ms/step\n",
      "Epoch 24/50\n",
      "12/12 - 0s - loss: 0.0011 - accuracy: 7.0696e-04 - val_loss: 1.4875e-04 - val_accuracy: 0.0000e+00 - 250ms/epoch - 21ms/step\n",
      "Epoch 25/50\n",
      "12/12 - 0s - loss: 3.7485e-04 - accuracy: 7.0696e-04 - val_loss: 1.8735e-04 - val_accuracy: 0.0000e+00 - 250ms/epoch - 21ms/step\n",
      "Epoch 26/50\n",
      "12/12 - 0s - loss: 6.4327e-04 - accuracy: 7.0696e-04 - val_loss: 7.0629e-04 - val_accuracy: 0.0000e+00 - 245ms/epoch - 20ms/step\n",
      "Epoch 27/50\n",
      "12/12 - 0s - loss: 9.7618e-04 - accuracy: 7.0696e-04 - val_loss: 1.2317e-04 - val_accuracy: 0.0000e+00 - 249ms/epoch - 21ms/step\n",
      "Epoch 28/50\n",
      "12/12 - 0s - loss: 5.7351e-04 - accuracy: 7.0696e-04 - val_loss: 3.7831e-04 - val_accuracy: 0.0000e+00 - 245ms/epoch - 20ms/step\n",
      "Epoch 29/50\n",
      "12/12 - 0s - loss: 4.8883e-04 - accuracy: 7.0696e-04 - val_loss: 1.7217e-04 - val_accuracy: 0.0000e+00 - 250ms/epoch - 21ms/step\n",
      "Epoch 30/50\n",
      "12/12 - 0s - loss: 7.5574e-04 - accuracy: 7.0696e-04 - val_loss: 1.3339e-04 - val_accuracy: 0.0000e+00 - 244ms/epoch - 20ms/step\n",
      "Epoch 31/50\n",
      "12/12 - 0s - loss: 6.6532e-04 - accuracy: 7.0696e-04 - val_loss: 2.8354e-04 - val_accuracy: 0.0000e+00 - 246ms/epoch - 21ms/step\n",
      "Epoch 32/50\n",
      "12/12 - 0s - loss: 6.0571e-04 - accuracy: 7.0696e-04 - val_loss: 2.1503e-04 - val_accuracy: 0.0000e+00 - 245ms/epoch - 20ms/step\n",
      "Epoch 33/50\n",
      "12/12 - 0s - loss: 4.5228e-04 - accuracy: 7.0696e-04 - val_loss: 3.4005e-04 - val_accuracy: 0.0000e+00 - 248ms/epoch - 21ms/step\n",
      "Epoch 34/50\n",
      "12/12 - 0s - loss: 7.4729e-04 - accuracy: 7.0696e-04 - val_loss: 1.3579e-04 - val_accuracy: 0.0000e+00 - 246ms/epoch - 20ms/step\n",
      "Epoch 35/50\n",
      "12/12 - 0s - loss: 3.0449e-04 - accuracy: 7.0696e-04 - val_loss: 1.0254e-04 - val_accuracy: 0.0000e+00 - 248ms/epoch - 21ms/step\n",
      "Epoch 36/50\n",
      "12/12 - 0s - loss: 0.0011 - accuracy: 7.0696e-04 - val_loss: 9.3915e-05 - val_accuracy: 0.0000e+00 - 245ms/epoch - 20ms/step\n",
      "Epoch 37/50\n",
      "12/12 - 0s - loss: 2.3503e-04 - accuracy: 7.0696e-04 - val_loss: 2.2056e-04 - val_accuracy: 0.0000e+00 - 241ms/epoch - 20ms/step\n",
      "Epoch 38/50\n",
      "12/12 - 0s - loss: 6.2326e-04 - accuracy: 7.0696e-04 - val_loss: 1.1031e-04 - val_accuracy: 0.0000e+00 - 244ms/epoch - 20ms/step\n",
      "Epoch 39/50\n",
      "12/12 - 0s - loss: 2.9842e-04 - accuracy: 7.0696e-04 - val_loss: 1.4480e-04 - val_accuracy: 0.0000e+00 - 244ms/epoch - 20ms/step\n",
      "Epoch 40/50\n",
      "12/12 - 0s - loss: 6.1793e-04 - accuracy: 7.0696e-04 - val_loss: 1.8865e-04 - val_accuracy: 0.0000e+00 - 243ms/epoch - 20ms/step\n",
      "Epoch 41/50\n",
      "12/12 - 0s - loss: 3.0777e-04 - accuracy: 7.0696e-04 - val_loss: 1.2696e-04 - val_accuracy: 0.0000e+00 - 243ms/epoch - 20ms/step\n",
      "Epoch 42/50\n",
      "12/12 - 0s - loss: 5.3222e-04 - accuracy: 7.0696e-04 - val_loss: 5.7558e-04 - val_accuracy: 0.0000e+00 - 244ms/epoch - 20ms/step\n",
      "Epoch 43/50\n",
      "12/12 - 0s - loss: 4.3171e-04 - accuracy: 7.0696e-04 - val_loss: 1.4965e-04 - val_accuracy: 0.0000e+00 - 246ms/epoch - 21ms/step\n",
      "Epoch 44/50\n",
      "12/12 - 0s - loss: 4.1436e-04 - accuracy: 7.0696e-04 - val_loss: 1.6489e-04 - val_accuracy: 0.0000e+00 - 241ms/epoch - 20ms/step\n",
      "Epoch 45/50\n",
      "12/12 - 0s - loss: 5.0791e-04 - accuracy: 7.0696e-04 - val_loss: 1.4428e-04 - val_accuracy: 0.0000e+00 - 243ms/epoch - 20ms/step\n",
      "Epoch 46/50\n",
      "12/12 - 0s - loss: 5.5723e-04 - accuracy: 7.0696e-04 - val_loss: 1.3586e-04 - val_accuracy: 0.0000e+00 - 266ms/epoch - 22ms/step\n",
      "Epoch 47/50\n",
      "12/12 - 0s - loss: 4.4010e-04 - accuracy: 7.0696e-04 - val_loss: 1.6280e-04 - val_accuracy: 0.0000e+00 - 242ms/epoch - 20ms/step\n",
      "Epoch 48/50\n",
      "12/12 - 0s - loss: 2.6339e-04 - accuracy: 7.0696e-04 - val_loss: 1.3082e-04 - val_accuracy: 0.0000e+00 - 240ms/epoch - 20ms/step\n",
      "Epoch 49/50\n",
      "12/12 - 0s - loss: 3.8250e-04 - accuracy: 7.0696e-04 - val_loss: 1.3513e-04 - val_accuracy: 0.0000e+00 - 245ms/epoch - 20ms/step\n",
      "Epoch 50/50\n",
      "12/12 - 0s - loss: 5.6170e-04 - accuracy: 7.0696e-04 - val_loss: 7.6669e-05 - val_accuracy: 0.0000e+00 - 241ms/epoch - 20ms/step\n"
     ]
    },
    {
     "data": {
      "text/plain": [
       "<keras.callbacks.History at 0x1dbfdbefbb0>"
      ]
     },
     "execution_count": 45,
     "metadata": {},
     "output_type": "execute_result"
    }
   ],
   "source": [
    "model.fit(X_train, y_train, batch_size=256, epochs=50, validation_data = (X_test, y_test), verbose=2)"
   ]
  },
  {
   "cell_type": "code",
   "execution_count": 46,
   "metadata": {},
   "outputs": [
    {
     "name": "stdout",
     "output_type": "stream",
     "text": [
      "3/3 [==============================] - 0s 8ms/step - loss: 7.6669e-05 - accuracy: 0.0000e+00\n"
     ]
    }
   ],
   "source": [
    "score= model.evaluate(X_test, y_test, batch_size=256)"
   ]
  },
  {
   "cell_type": "code",
   "execution_count": 47,
   "metadata": {},
   "outputs": [
    {
     "name": "stdout",
     "output_type": "stream",
     "text": [
      "[7.66687371651642e-05, 0.0]\n"
     ]
    }
   ],
   "source": [
    "print (score)"
   ]
  },
  {
   "cell_type": "code",
   "execution_count": 48,
   "metadata": {
    "tags": []
   },
   "outputs": [
    {
     "name": "stdout",
     "output_type": "stream",
     "text": [
      "19/19 [==============================] - 0s 4ms/step\n"
     ]
    }
   ],
   "source": [
    "y_pred= model.predict(X_test)"
   ]
  },
  {
   "cell_type": "code",
   "execution_count": 49,
   "metadata": {},
   "outputs": [
    {
     "data": {
      "image/png": "[encoded data removed]",
      "text/plain": [
       "<Figure size 432x288 with 1 Axes>"
      ]
     },
     "metadata": {
      "needs_background": "light"
     },
     "output_type": "display_data"
    }
   ],
   "source": [
    "plt.plot(y_pred, 'r-')\n",
    "plt.plot(y_test, 'b-')\n",
    "plt.show()"
   ]
  },
  {
   "cell_type": "code",
   "execution_count": 50,
   "metadata": {},
   "outputs": [
    {
     "name": "stdout",
     "output_type": "stream",
     "text": [
      "0.003906610284171376\n",
      "Root Mean Square Error:\n",
      "\n",
      "0.06250288220691408\n",
      "0.04595040461496016\n"
     ]
    }
   ],
   "source": [
    "import math\n",
    "MSE = np.square(np.subtract(y_test,y_pred)).mean() \n",
    "print (MSE)\n",
    "RMSE = math.sqrt(MSE)\n",
    "print(\"Root Mean Square Error:\\n\")\n",
    "print(RMSE)\n",
    "def mae(y_test, y_pred):\n",
    "    y_test, y_pred = np.array(y_test), np.array(y_pred)\n",
    "    return np.mean(np.abs(y_test - y_pred))\n",
    "print(mae(y_test, y_pred))"
   ]
  },
  {
   "cell_type": "code",
   "execution_count": 51,
   "metadata": {},
   "outputs": [
    {
     "data": {
      "image/png": "[encoded data removed]",
      "text/plain": [
       "<Figure size 432x288 with 1 Axes>"
      ]
     },
     "metadata": {
      "needs_background": "light"
     },
     "output_type": "display_data"
    }
   ],
   "source": [
    "plt.plot (y_pred, y_test, 'bo')\n",
    "plt.xlabel('y_pred')\n",
    "plt.ylabel('y_test')\n",
    "plt.show()"
   ]
  },
  {
   "cell_type": "code",
   "execution_count": null,
   "metadata": {
    "collapsed": true,
    "jupyter": {
     "outputs_hidden": true
    }
   },
   "outputs": [],
   "source": []
  }
 ],
 "metadata": {
  "kernelspec": {
   "display_name": "Python 3 (ipykernel)",
   "language": "python",
   "name": "python3"
  },
  "language_info": {
   "codemirror_mode": {
    "name": "ipython",
    "version": 3
   },
   "file_extension": ".py",
   "mimetype": "text/x-python",
   "name": "python",
   "nbconvert_exporter": "python",
   "pygments_lexer": "ipython3",
   "version": "3.10.4"
  }
 },
 "nbformat": 4,
 "nbformat_minor": 4
}
