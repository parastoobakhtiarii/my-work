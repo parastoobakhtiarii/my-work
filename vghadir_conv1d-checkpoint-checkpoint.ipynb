{
 "cells": [
  {
   "cell_type": "code",
   "execution_count": 1,
   "metadata": {},
   "outputs": [],
   "source": [
    "import numpy as np\n",
    "import pandas as pd\n",
    "from keras.layers import Dense, Dropout, Activation, LSTM, Convolution1D, MaxPooling1D, Flatten\n",
    "from keras.models import Sequential\n",
    "import matplotlib.pyplot as plt\n",
    "%matplotlib inline"
   ]
  },
  {
   "cell_type": "code",
   "execution_count": 2,
   "metadata": {
    "tags": []
   },
   "outputs": [],
   "source": [
    "## Data preparation"
   ]
  },
  {
   "cell_type": "code",
   "execution_count": 3,
   "metadata": {},
   "outputs": [
    {
     "data": {
      "text/html": [
       "<div>\n",
       "<style scoped>\n",
       "    .dataframe tbody tr th:only-of-type {\n",
       "        vertical-align: middle;\n",
       "    }\n",
       "\n",
       "    .dataframe tbody tr th {\n",
       "        vertical-align: top;\n",
       "    }\n",
       "\n",
       "    .dataframe thead th {\n",
       "        text-align: right;\n",
       "    }\n",
       "</style>\n",
       "<table border=\"1\" class=\"dataframe\">\n",
       "  <thead>\n",
       "    <tr style=\"text-align: right;\">\n",
       "      <th></th>\n",
       "      <th>Date</th>\n",
       "      <th>Open</th>\n",
       "      <th>High</th>\n",
       "      <th>Low</th>\n",
       "      <th>Close</th>\n",
       "      <th>Volume</th>\n",
       "    </tr>\n",
       "  </thead>\n",
       "  <tbody>\n",
       "    <tr>\n",
       "      <th>0</th>\n",
       "      <td>20220622</td>\n",
       "      <td>14500</td>\n",
       "      <td>14680</td>\n",
       "      <td>14370</td>\n",
       "      <td>14550</td>\n",
       "      <td>12945776</td>\n",
       "    </tr>\n",
       "    <tr>\n",
       "      <th>1</th>\n",
       "      <td>20220621</td>\n",
       "      <td>14900</td>\n",
       "      <td>14900</td>\n",
       "      <td>14570</td>\n",
       "      <td>14670</td>\n",
       "      <td>7704388</td>\n",
       "    </tr>\n",
       "    <tr>\n",
       "      <th>2</th>\n",
       "      <td>20220620</td>\n",
       "      <td>14740</td>\n",
       "      <td>15000</td>\n",
       "      <td>14740</td>\n",
       "      <td>14840</td>\n",
       "      <td>19205462</td>\n",
       "    </tr>\n",
       "    <tr>\n",
       "      <th>3</th>\n",
       "      <td>20220619</td>\n",
       "      <td>15050</td>\n",
       "      <td>15050</td>\n",
       "      <td>14730</td>\n",
       "      <td>14810</td>\n",
       "      <td>13284086</td>\n",
       "    </tr>\n",
       "    <tr>\n",
       "      <th>4</th>\n",
       "      <td>20220618</td>\n",
       "      <td>14970</td>\n",
       "      <td>14990</td>\n",
       "      <td>14710</td>\n",
       "      <td>14800</td>\n",
       "      <td>9522163</td>\n",
       "    </tr>\n",
       "    <tr>\n",
       "      <th>...</th>\n",
       "      <td>...</td>\n",
       "      <td>...</td>\n",
       "      <td>...</td>\n",
       "      <td>...</td>\n",
       "      <td>...</td>\n",
       "      <td>...</td>\n",
       "    </tr>\n",
       "    <tr>\n",
       "      <th>3428</th>\n",
       "      <td>20070723</td>\n",
       "      <td>2318</td>\n",
       "      <td>2365</td>\n",
       "      <td>2318</td>\n",
       "      <td>2365</td>\n",
       "      <td>1610</td>\n",
       "    </tr>\n",
       "    <tr>\n",
       "      <th>3429</th>\n",
       "      <td>20070722</td>\n",
       "      <td>2318</td>\n",
       "      <td>2365</td>\n",
       "      <td>2318</td>\n",
       "      <td>2365</td>\n",
       "      <td>1010</td>\n",
       "    </tr>\n",
       "    <tr>\n",
       "      <th>3430</th>\n",
       "      <td>20070717</td>\n",
       "      <td>2318</td>\n",
       "      <td>2365</td>\n",
       "      <td>2318</td>\n",
       "      <td>2365</td>\n",
       "      <td>74</td>\n",
       "    </tr>\n",
       "    <tr>\n",
       "      <th>3431</th>\n",
       "      <td>20070626</td>\n",
       "      <td>2318</td>\n",
       "      <td>2365</td>\n",
       "      <td>2318</td>\n",
       "      <td>2365</td>\n",
       "      <td>5010</td>\n",
       "    </tr>\n",
       "    <tr>\n",
       "      <th>3432</th>\n",
       "      <td>20070623</td>\n",
       "      <td>2318</td>\n",
       "      <td>2365</td>\n",
       "      <td>2318</td>\n",
       "      <td>2365</td>\n",
       "      <td>33</td>\n",
       "    </tr>\n",
       "  </tbody>\n",
       "</table>\n",
       "<p>3433 rows × 6 columns</p>\n",
       "</div>"
      ],
      "text/plain": [
       "          Date   Open   High    Low  Close    Volume\n",
       "0     20220622  14500  14680  14370  14550  12945776\n",
       "1     20220621  14900  14900  14570  14670   7704388\n",
       "2     20220620  14740  15000  14740  14840  19205462\n",
       "3     20220619  15050  15050  14730  14810  13284086\n",
       "4     20220618  14970  14990  14710  14800   9522163\n",
       "...        ...    ...    ...    ...    ...       ...\n",
       "3428  20070723   2318   2365   2318   2365      1610\n",
       "3429  20070722   2318   2365   2318   2365      1010\n",
       "3430  20070717   2318   2365   2318   2365        74\n",
       "3431  20070626   2318   2365   2318   2365      5010\n",
       "3432  20070623   2318   2365   2318   2365        33\n",
       "\n",
       "[3433 rows x 6 columns]"
      ]
     },
     "execution_count": 3,
     "metadata": {},
     "output_type": "execute_result"
    }
   ],
   "source": [
    "data = pd.read_excel (r'C:\\Users\\Parastoo\\OneDrive\\Desktop\\vghadir2.xlsx')\n",
    "data"
   ]
  },
  {
   "cell_type": "code",
   "execution_count": 4,
   "metadata": {},
   "outputs": [
    {
     "data": {
      "text/html": [
       "<div>\n",
       "<style scoped>\n",
       "    .dataframe tbody tr th:only-of-type {\n",
       "        vertical-align: middle;\n",
       "    }\n",
       "\n",
       "    .dataframe tbody tr th {\n",
       "        vertical-align: top;\n",
       "    }\n",
       "\n",
       "    .dataframe thead th {\n",
       "        text-align: right;\n",
       "    }\n",
       "</style>\n",
       "<table border=\"1\" class=\"dataframe\">\n",
       "  <thead>\n",
       "    <tr style=\"text-align: right;\">\n",
       "      <th></th>\n",
       "      <th>Date</th>\n",
       "      <th>Open</th>\n",
       "      <th>High</th>\n",
       "      <th>Low</th>\n",
       "      <th>Close</th>\n",
       "      <th>Volume</th>\n",
       "    </tr>\n",
       "  </thead>\n",
       "  <tbody>\n",
       "    <tr>\n",
       "      <th>3428</th>\n",
       "      <td>20070723</td>\n",
       "      <td>2318</td>\n",
       "      <td>2365</td>\n",
       "      <td>2318</td>\n",
       "      <td>2365</td>\n",
       "      <td>1610</td>\n",
       "    </tr>\n",
       "    <tr>\n",
       "      <th>3429</th>\n",
       "      <td>20070722</td>\n",
       "      <td>2318</td>\n",
       "      <td>2365</td>\n",
       "      <td>2318</td>\n",
       "      <td>2365</td>\n",
       "      <td>1010</td>\n",
       "    </tr>\n",
       "    <tr>\n",
       "      <th>3430</th>\n",
       "      <td>20070717</td>\n",
       "      <td>2318</td>\n",
       "      <td>2365</td>\n",
       "      <td>2318</td>\n",
       "      <td>2365</td>\n",
       "      <td>74</td>\n",
       "    </tr>\n",
       "    <tr>\n",
       "      <th>3431</th>\n",
       "      <td>20070626</td>\n",
       "      <td>2318</td>\n",
       "      <td>2365</td>\n",
       "      <td>2318</td>\n",
       "      <td>2365</td>\n",
       "      <td>5010</td>\n",
       "    </tr>\n",
       "    <tr>\n",
       "      <th>3432</th>\n",
       "      <td>20070623</td>\n",
       "      <td>2318</td>\n",
       "      <td>2365</td>\n",
       "      <td>2318</td>\n",
       "      <td>2365</td>\n",
       "      <td>33</td>\n",
       "    </tr>\n",
       "  </tbody>\n",
       "</table>\n",
       "</div>"
      ],
      "text/plain": [
       "          Date  Open  High   Low  Close  Volume\n",
       "3428  20070723  2318  2365  2318   2365    1610\n",
       "3429  20070722  2318  2365  2318   2365    1010\n",
       "3430  20070717  2318  2365  2318   2365      74\n",
       "3431  20070626  2318  2365  2318   2365    5010\n",
       "3432  20070623  2318  2365  2318   2365      33"
      ]
     },
     "execution_count": 4,
     "metadata": {},
     "output_type": "execute_result"
    }
   ],
   "source": [
    "data= data.dropna(axis=0)\n",
    "data.tail()"
   ]
  },
  {
   "cell_type": "code",
   "execution_count": 5,
   "metadata": {},
   "outputs": [
    {
     "name": "stdout",
     "output_type": "stream",
     "text": [
      "(3433, 4)\n"
     ]
    }
   ],
   "source": [
    "data= data.values[:, 1:5]\n",
    "print (data.shape)"
   ]
  },
  {
   "cell_type": "code",
   "execution_count": 6,
   "metadata": {},
   "outputs": [
    {
     "name": "stdout",
     "output_type": "stream",
     "text": [
      "[[14500 14680 14370 14550]\n",
      " [14900 14900 14570 14670]\n",
      " [14740 15000 14740 14840]\n",
      " [15050 15050 14730 14810]\n",
      " [14970 14990 14710 14800]\n",
      " [15000 15100 14880 14990]]\n"
     ]
    }
   ],
   "source": [
    "print (data[:6, :])"
   ]
  },
  {
   "cell_type": "code",
   "execution_count": 7,
   "metadata": {},
   "outputs": [
    {
     "name": "stdout",
     "output_type": "stream",
     "text": [
      "(3432,)\n",
      "(3432, 4)\n"
     ]
    }
   ],
   "source": [
    "y= data[1:, 3]\n",
    "print (y.shape)\n",
    "X= data[:3432,:]\n",
    "print (X.shape)"
   ]
  },
  {
   "cell_type": "code",
   "execution_count": 8,
   "metadata": {},
   "outputs": [],
   "source": [
    "y= (y- min(y))/(max(y)- min(y))\n",
    "#print y[4270:]\n",
    "#print y[:7]"
   ]
  },
  {
   "cell_type": "code",
   "execution_count": 9,
   "metadata": {},
   "outputs": [
    {
     "name": "stdout",
     "output_type": "stream",
     "text": [
      "(3432, 4)\n",
      "[[0.55747789 0.56439831 0.57990315 0.5625026 ]\n",
      " [0.57285659 0.57285659 0.58797417 0.56749781]\n",
      " [0.56670511 0.57670127 0.59483454 0.57457437]]\n"
     ]
    }
   ],
   "source": [
    "X= (X- np.min(X,axis=0))/(np.max(X, axis=0)-np.min(X,axis=0))\n",
    "print (X.shape)\n",
    "print (X[:3, :])"
   ]
  },
  {
   "cell_type": "code",
   "execution_count": 10,
   "metadata": {
    "tags": []
   },
   "outputs": [],
   "source": [
    "## Sequence data preparation"
   ]
  },
  {
   "cell_type": "code",
   "execution_count": 11,
   "metadata": {},
   "outputs": [
    {
     "name": "stdout",
     "output_type": "stream",
     "text": [
      "(3333, 100, 4) (3333,)\n"
     ]
    }
   ],
   "source": [
    "time_steps= 100\n",
    "X_new= np.zeros((X.shape[0] - time_steps +1, 100, X.shape[1]))\n",
    "y_new= np.zeros((y.shape[0] -time_steps +1,))\n",
    "for ix in range(X_new.shape[0]):\n",
    "    for jx in range(time_steps):\n",
    "        X_new[ix, jx, :]= X[ix +jx, :]\n",
    "    y_new[ix]= y[ix + time_steps -1 ]\n",
    "print (X_new.shape, y_new.shape)"
   ]
  },
  {
   "cell_type": "code",
   "execution_count": 12,
   "metadata": {
    "tags": []
   },
   "outputs": [],
   "source": [
    "## split into train and test sets"
   ]
  },
  {
   "cell_type": "code",
   "execution_count": 13,
   "metadata": {},
   "outputs": [
    {
     "name": "stdout",
     "output_type": "stream",
     "text": [
      "(2746, 100, 4) (2746,)\n",
      "(587, 100, 4) (587,)\n"
     ]
    }
   ],
   "source": [
    "split = int(0.8*data.shape[0])\n",
    "X_train = X_new[:split]\n",
    "X_test = X_new[split:]\n",
    "\n",
    "y_train = y_new[:split]\n",
    "y_test = y_new[split:]\n",
    "\n",
    "print (X_train.shape, y_train.shape)\n",
    "print (X_test.shape, y_test.shape)"
   ]
  },
  {
   "cell_type": "code",
   "execution_count": 14,
   "metadata": {
    "tags": []
   },
   "outputs": [],
   "source": [
    "## Model fitting"
   ]
  },
  {
   "cell_type": "code",
   "execution_count": 15,
   "metadata": {},
   "outputs": [
    {
     "name": "stdout",
     "output_type": "stream",
     "text": [
      "Model: \"sequential\"\n",
      "_________________________________________________________________\n",
      " Layer (type)                Output Shape              Param #   \n",
      "=================================================================\n",
      " conv1d (Conv1D)             (None, 100, 64)           832       \n",
      "                                                                 \n",
      " max_pooling1d (MaxPooling1D  (None, 50, 64)           0         \n",
      " )                                                               \n",
      "                                                                 \n",
      " conv1d_1 (Conv1D)           (None, 50, 32)            6176      \n",
      "                                                                 \n",
      " max_pooling1d_1 (MaxPooling  (None, 25, 32)           0         \n",
      " 1D)                                                             \n",
      "                                                                 \n",
      " flatten (Flatten)           (None, 800)               0         \n",
      "                                                                 \n",
      " dense (Dense)               (None, 1)                 801       \n",
      "                                                                 \n",
      " activation (Activation)     (None, 1)                 0         \n",
      "                                                                 \n",
      "=================================================================\n",
      "Total params: 7,809\n",
      "Trainable params: 7,809\n",
      "Non-trainable params: 0\n",
      "_________________________________________________________________\n"
     ]
    }
   ],
   "source": [
    "model = Sequential()\n",
    "model.add(Convolution1D(64, 3, input_shape= (100,4), padding='same'))\n",
    "model.add(MaxPooling1D(pool_size=2))\n",
    "model.add(Convolution1D(32, 3, padding='same'))\n",
    "model.add(MaxPooling1D(pool_size=2))\n",
    "model.add(Flatten())\n",
    "model.add(Dense(units=1))\n",
    "model.add(Activation('linear'))\n",
    "\n",
    "model.summary()"
   ]
  },
  {
   "cell_type": "code",
   "execution_count": 16,
   "metadata": {},
   "outputs": [],
   "source": [
    "model.compile(loss='mse', optimizer='rmsprop', metrics=['accuracy'])"
   ]
  },
  {
   "cell_type": "code",
   "execution_count": 17,
   "metadata": {},
   "outputs": [
    {
     "name": "stdout",
     "output_type": "stream",
     "text": [
      "Epoch 1/50\n",
      "11/11 - 1s - loss: 0.0471 - accuracy: 0.0015 - val_loss: 3.3969e-04 - val_accuracy: 0.0000e+00 - 1s/epoch - 128ms/step\n",
      "Epoch 2/50\n",
      "11/11 - 0s - loss: 0.0026 - accuracy: 0.0015 - val_loss: 4.7181e-04 - val_accuracy: 0.0000e+00 - 388ms/epoch - 35ms/step\n",
      "Epoch 3/50\n",
      "11/11 - 0s - loss: 0.0075 - accuracy: 0.0015 - val_loss: 2.2996e-04 - val_accuracy: 0.0000e+00 - 362ms/epoch - 33ms/step\n",
      "Epoch 4/50\n",
      "11/11 - 0s - loss: 0.0051 - accuracy: 0.0015 - val_loss: 2.9557e-04 - val_accuracy: 0.0000e+00 - 366ms/epoch - 33ms/step\n",
      "Epoch 5/50\n",
      "11/11 - 0s - loss: 0.0051 - accuracy: 0.0015 - val_loss: 2.1143e-04 - val_accuracy: 0.0000e+00 - 330ms/epoch - 30ms/step\n",
      "Epoch 6/50\n",
      "11/11 - 0s - loss: 0.0039 - accuracy: 0.0015 - val_loss: 0.0018 - val_accuracy: 0.0000e+00 - 282ms/epoch - 26ms/step\n",
      "Epoch 7/50\n",
      "11/11 - 0s - loss: 0.0030 - accuracy: 0.0015 - val_loss: 8.0414e-04 - val_accuracy: 0.0000e+00 - 272ms/epoch - 25ms/step\n",
      "Epoch 8/50\n",
      "11/11 - 0s - loss: 0.0027 - accuracy: 0.0015 - val_loss: 1.5095e-04 - val_accuracy: 0.0000e+00 - 269ms/epoch - 24ms/step\n",
      "Epoch 9/50\n",
      "11/11 - 0s - loss: 0.0039 - accuracy: 0.0015 - val_loss: 1.4938e-04 - val_accuracy: 0.0000e+00 - 271ms/epoch - 25ms/step\n",
      "Epoch 10/50\n",
      "11/11 - 0s - loss: 0.0012 - accuracy: 0.0015 - val_loss: 2.9252e-04 - val_accuracy: 0.0000e+00 - 272ms/epoch - 25ms/step\n",
      "Epoch 11/50\n",
      "11/11 - 0s - loss: 0.0023 - accuracy: 0.0015 - val_loss: 1.0347e-04 - val_accuracy: 0.0000e+00 - 265ms/epoch - 24ms/step\n",
      "Epoch 12/50\n",
      "11/11 - 0s - loss: 0.0023 - accuracy: 0.0015 - val_loss: 9.8234e-05 - val_accuracy: 0.0000e+00 - 269ms/epoch - 24ms/step\n",
      "Epoch 13/50\n",
      "11/11 - 0s - loss: 0.0015 - accuracy: 0.0015 - val_loss: 5.6369e-04 - val_accuracy: 0.0000e+00 - 271ms/epoch - 25ms/step\n",
      "Epoch 14/50\n",
      "11/11 - 0s - loss: 0.0014 - accuracy: 0.0015 - val_loss: 1.8422e-04 - val_accuracy: 0.0000e+00 - 275ms/epoch - 25ms/step\n",
      "Epoch 15/50\n",
      "11/11 - 0s - loss: 0.0010 - accuracy: 0.0015 - val_loss: 7.4960e-05 - val_accuracy: 0.0000e+00 - 274ms/epoch - 25ms/step\n",
      "Epoch 16/50\n",
      "11/11 - 0s - loss: 0.0021 - accuracy: 0.0015 - val_loss: 8.3628e-05 - val_accuracy: 0.0000e+00 - 275ms/epoch - 25ms/step\n",
      "Epoch 17/50\n",
      "11/11 - 0s - loss: 4.9957e-04 - accuracy: 0.0015 - val_loss: 6.8916e-05 - val_accuracy: 0.0000e+00 - 269ms/epoch - 24ms/step\n",
      "Epoch 18/50\n",
      "11/11 - 0s - loss: 0.0013 - accuracy: 0.0015 - val_loss: 6.8320e-05 - val_accuracy: 0.0000e+00 - 266ms/epoch - 24ms/step\n",
      "Epoch 19/50\n",
      "11/11 - 0s - loss: 0.0012 - accuracy: 0.0015 - val_loss: 1.7476e-04 - val_accuracy: 0.0000e+00 - 258ms/epoch - 23ms/step\n",
      "Epoch 20/50\n",
      "11/11 - 0s - loss: 8.3974e-04 - accuracy: 0.0015 - val_loss: 0.0011 - val_accuracy: 0.0000e+00 - 250ms/epoch - 23ms/step\n",
      "Epoch 21/50\n",
      "11/11 - 0s - loss: 9.5836e-04 - accuracy: 0.0015 - val_loss: 8.6122e-05 - val_accuracy: 0.0000e+00 - 241ms/epoch - 22ms/step\n",
      "Epoch 22/50\n",
      "11/11 - 0s - loss: 8.9749e-04 - accuracy: 0.0015 - val_loss: 6.1006e-04 - val_accuracy: 0.0000e+00 - 236ms/epoch - 21ms/step\n",
      "Epoch 23/50\n",
      "11/11 - 0s - loss: 6.6039e-04 - accuracy: 0.0015 - val_loss: 1.0378e-04 - val_accuracy: 0.0000e+00 - 237ms/epoch - 22ms/step\n",
      "Epoch 24/50\n",
      "11/11 - 0s - loss: 0.0017 - accuracy: 0.0015 - val_loss: 6.1360e-05 - val_accuracy: 0.0000e+00 - 239ms/epoch - 22ms/step\n",
      "Epoch 25/50\n",
      "11/11 - 0s - loss: 3.2620e-04 - accuracy: 0.0015 - val_loss: 6.4453e-05 - val_accuracy: 0.0000e+00 - 238ms/epoch - 22ms/step\n",
      "Epoch 26/50\n",
      "11/11 - 0s - loss: 8.0114e-04 - accuracy: 0.0015 - val_loss: 1.0073e-04 - val_accuracy: 0.0000e+00 - 240ms/epoch - 22ms/step\n",
      "Epoch 27/50\n",
      "11/11 - 0s - loss: 7.1859e-04 - accuracy: 0.0015 - val_loss: 8.0706e-05 - val_accuracy: 0.0000e+00 - 240ms/epoch - 22ms/step\n",
      "Epoch 28/50\n",
      "11/11 - 0s - loss: 0.0012 - accuracy: 0.0015 - val_loss: 5.2187e-05 - val_accuracy: 0.0000e+00 - 239ms/epoch - 22ms/step\n",
      "Epoch 29/50\n",
      "11/11 - 0s - loss: 5.2968e-04 - accuracy: 0.0015 - val_loss: 4.5069e-05 - val_accuracy: 0.0000e+00 - 241ms/epoch - 22ms/step\n",
      "Epoch 30/50\n",
      "11/11 - 0s - loss: 7.6101e-04 - accuracy: 0.0015 - val_loss: 6.4913e-05 - val_accuracy: 0.0000e+00 - 240ms/epoch - 22ms/step\n",
      "Epoch 31/50\n",
      "11/11 - 0s - loss: 6.0247e-04 - accuracy: 0.0015 - val_loss: 0.0011 - val_accuracy: 0.0000e+00 - 238ms/epoch - 22ms/step\n",
      "Epoch 32/50\n",
      "11/11 - 0s - loss: 0.0010 - accuracy: 0.0015 - val_loss: 4.6897e-05 - val_accuracy: 0.0000e+00 - 239ms/epoch - 22ms/step\n",
      "Epoch 33/50\n",
      "11/11 - 0s - loss: 3.6714e-04 - accuracy: 0.0015 - val_loss: 1.6831e-04 - val_accuracy: 0.0000e+00 - 237ms/epoch - 22ms/step\n",
      "Epoch 34/50\n",
      "11/11 - 0s - loss: 5.9929e-04 - accuracy: 0.0015 - val_loss: 1.6777e-04 - val_accuracy: 0.0000e+00 - 237ms/epoch - 22ms/step\n",
      "Epoch 35/50\n",
      "11/11 - 0s - loss: 0.0010 - accuracy: 0.0015 - val_loss: 5.5482e-05 - val_accuracy: 0.0000e+00 - 243ms/epoch - 22ms/step\n",
      "Epoch 36/50\n",
      "11/11 - 0s - loss: 3.9647e-04 - accuracy: 0.0015 - val_loss: 6.5675e-05 - val_accuracy: 0.0000e+00 - 234ms/epoch - 21ms/step\n",
      "Epoch 37/50\n",
      "11/11 - 0s - loss: 5.4231e-04 - accuracy: 0.0015 - val_loss: 1.9422e-04 - val_accuracy: 0.0000e+00 - 235ms/epoch - 21ms/step\n",
      "Epoch 38/50\n",
      "11/11 - 0s - loss: 8.5062e-04 - accuracy: 0.0015 - val_loss: 9.5154e-05 - val_accuracy: 0.0000e+00 - 242ms/epoch - 22ms/step\n",
      "Epoch 39/50\n",
      "11/11 - 0s - loss: 3.9379e-04 - accuracy: 0.0015 - val_loss: 3.9219e-05 - val_accuracy: 0.0000e+00 - 238ms/epoch - 22ms/step\n",
      "Epoch 40/50\n",
      "11/11 - 0s - loss: 7.4370e-04 - accuracy: 0.0015 - val_loss: 6.1561e-04 - val_accuracy: 0.0000e+00 - 238ms/epoch - 22ms/step\n",
      "Epoch 41/50\n",
      "11/11 - 0s - loss: 4.9683e-04 - accuracy: 0.0015 - val_loss: 3.9995e-05 - val_accuracy: 0.0000e+00 - 240ms/epoch - 22ms/step\n",
      "Epoch 42/50\n",
      "11/11 - 0s - loss: 5.6515e-04 - accuracy: 0.0015 - val_loss: 0.0014 - val_accuracy: 0.0000e+00 - 236ms/epoch - 21ms/step\n",
      "Epoch 43/50\n",
      "11/11 - 0s - loss: 8.6675e-04 - accuracy: 0.0015 - val_loss: 5.1066e-05 - val_accuracy: 0.0000e+00 - 235ms/epoch - 21ms/step\n",
      "Epoch 44/50\n",
      "11/11 - 0s - loss: 3.2675e-04 - accuracy: 0.0015 - val_loss: 4.7141e-05 - val_accuracy: 0.0000e+00 - 235ms/epoch - 21ms/step\n",
      "Epoch 45/50\n",
      "11/11 - 0s - loss: 6.8476e-04 - accuracy: 0.0015 - val_loss: 4.9574e-05 - val_accuracy: 0.0000e+00 - 236ms/epoch - 21ms/step\n",
      "Epoch 46/50\n",
      "11/11 - 0s - loss: 4.4161e-04 - accuracy: 0.0015 - val_loss: 1.2294e-04 - val_accuracy: 0.0000e+00 - 236ms/epoch - 21ms/step\n",
      "Epoch 47/50\n",
      "11/11 - 0s - loss: 4.6053e-04 - accuracy: 0.0015 - val_loss: 8.1442e-05 - val_accuracy: 0.0000e+00 - 237ms/epoch - 22ms/step\n",
      "Epoch 48/50\n",
      "11/11 - 0s - loss: 8.1498e-04 - accuracy: 0.0015 - val_loss: 6.1376e-04 - val_accuracy: 0.0000e+00 - 236ms/epoch - 21ms/step\n",
      "Epoch 49/50\n",
      "11/11 - 0s - loss: 4.0088e-04 - accuracy: 0.0015 - val_loss: 3.3036e-05 - val_accuracy: 0.0000e+00 - 256ms/epoch - 23ms/step\n",
      "Epoch 50/50\n",
      "11/11 - 0s - loss: 3.7191e-04 - accuracy: 0.0015 - val_loss: 4.3774e-05 - val_accuracy: 0.0000e+00 - 256ms/epoch - 23ms/step\n"
     ]
    },
    {
     "data": {
      "text/plain": [
       "<keras.callbacks.History at 0x2651bfbd030>"
      ]
     },
     "execution_count": 17,
     "metadata": {},
     "output_type": "execute_result"
    }
   ],
   "source": [
    "model.fit(X_train, y_train, batch_size=256, epochs=50, validation_data = (X_test, y_test), verbose=2)"
   ]
  },
  {
   "cell_type": "code",
   "execution_count": 18,
   "metadata": {},
   "outputs": [
    {
     "name": "stdout",
     "output_type": "stream",
     "text": [
      "3/3 [==============================] - 0s 8ms/step - loss: 4.3774e-05 - accuracy: 0.0000e+00\n"
     ]
    }
   ],
   "source": [
    "score= model.evaluate(X_test, y_test, batch_size=256)"
   ]
  },
  {
   "cell_type": "code",
   "execution_count": 19,
   "metadata": {},
   "outputs": [
    {
     "name": "stdout",
     "output_type": "stream",
     "text": [
      "[4.377388540888205e-05, 0.0]\n"
     ]
    }
   ],
   "source": [
    "print (score)"
   ]
  },
  {
   "cell_type": "code",
   "execution_count": 20,
   "metadata": {
    "tags": []
   },
   "outputs": [
    {
     "name": "stdout",
     "output_type": "stream",
     "text": [
      "19/19 [==============================] - 0s 4ms/step\n"
     ]
    }
   ],
   "source": [
    "y_pred= model.predict(X_test)"
   ]
  },
  {
   "cell_type": "code",
   "execution_count": 21,
   "metadata": {},
   "outputs": [
    {
     "data": {
      "image/png": "[encoded data removed]",
      "text/plain": [
       "<Figure size 432x288 with 1 Axes>"
      ]
     },
     "metadata": {
      "needs_background": "light"
     },
     "output_type": "display_data"
    }
   ],
   "source": [
    "plt.plot(y_pred, 'r-')\n",
    "plt.plot(y_test, 'b-')\n",
    "plt.show()"
   ]
  },
  {
   "cell_type": "code",
   "execution_count": 22,
   "metadata": {},
   "outputs": [
    {
     "name": "stdout",
     "output_type": "stream",
     "text": [
      "0.0008032379345302951\n",
      "Root Mean Square Error:\n",
      "\n",
      "0.02834145258327976\n",
      "0.023029438326182348\n"
     ]
    }
   ],
   "source": [
    "import math\n",
    "MSE = np.square(np.subtract(y_test,y_pred)).mean() \n",
    "print (MSE)\n",
    "RMSE = math.sqrt(MSE)\n",
    "print(\"Root Mean Square Error:\\n\")\n",
    "print(RMSE)\n",
    "def mae(y_test, y_pred):\n",
    "    y_test, y_pred = np.array(y_test), np.array(y_pred)\n",
    "    return np.mean(np.abs(y_test - y_pred))\n",
    "print(mae(y_test, y_pred))"
   ]
  },
  {
   "cell_type": "code",
   "execution_count": 23,
   "metadata": {},
   "outputs": [
    {
     "data": {
      "image/png": "[encoded data removed]",
      "text/plain": [
       "<Figure size 432x288 with 1 Axes>"
      ]
     },
     "metadata": {
      "needs_background": "light"
     },
     "output_type": "display_data"
    }
   ],
   "source": [
    "plt.plot (y_pred, y_test, 'bo')\n",
    "plt.xlabel('y_pred')\n",
    "plt.ylabel('y_test')\n",
    "plt.show()"
   ]
  },
  {
   "cell_type": "code",
   "execution_count": null,
   "metadata": {
    "collapsed": true,
    "jupyter": {
     "outputs_hidden": true
    }
   },
   "outputs": [],
   "source": []
  },
  {
   "cell_type": "code",
   "execution_count": null,
   "metadata": {},
   "outputs": [],
   "source": []
  }
 ],
 "metadata": {
  "kernelspec": {
   "display_name": "Python 3 (ipykernel)",
   "language": "python",
   "name": "python3"
  },
  "language_info": {
   "codemirror_mode": {
    "name": "ipython",
    "version": 3
   },
   "file_extension": ".py",
   "mimetype": "text/x-python",
   "name": "python",
   "nbconvert_exporter": "python",
   "pygments_lexer": "ipython3",
   "version": "3.10.4"
  }
 },
 "nbformat": 4,
 "nbformat_minor": 4
}
