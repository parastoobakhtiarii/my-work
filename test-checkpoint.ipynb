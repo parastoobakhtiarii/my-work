{
 "cells": [
  {
   "cell_type": "code",
   "execution_count": 226,
   "id": "6211f819-406b-4b28-a55e-cbd9fb8015ac",
   "metadata": {},
   "outputs": [],
   "source": [
    "import pandas as pd\n",
    "import numpy as np\n",
    "import matplotlib.pyplot as plt"
   ]
  },
  {
   "cell_type": "code",
   "execution_count": 227,
   "id": "0840177a-e419-4414-a7d5-a02e9dcd9de4",
   "metadata": {},
   "outputs": [],
   "source": [
    "data = pd.read_excel (r'C:\\Users\\Parastoo\\OneDrive\\Desktop\\fooladtest.xlsx')"
   ]
  },
  {
   "cell_type": "code",
   "execution_count": 228,
   "id": "9908d5f2-f8b1-4fd4-af54-08d91460ac60",
   "metadata": {},
   "outputs": [
    {
     "data": {
      "text/html": [
       "<div>\n",
       "<style scoped>\n",
       "    .dataframe tbody tr th:only-of-type {\n",
       "        vertical-align: middle;\n",
       "    }\n",
       "\n",
       "    .dataframe tbody tr th {\n",
       "        vertical-align: top;\n",
       "    }\n",
       "\n",
       "    .dataframe thead th {\n",
       "        text-align: right;\n",
       "    }\n",
       "</style>\n",
       "<table border=\"1\" class=\"dataframe\">\n",
       "  <thead>\n",
       "    <tr style=\"text-align: right;\">\n",
       "      <th></th>\n",
       "      <th>date</th>\n",
       "      <th>Open</th>\n",
       "      <th>High</th>\n",
       "      <th>Low</th>\n",
       "      <th>Close</th>\n",
       "      <th>Volume</th>\n",
       "    </tr>\n",
       "  </thead>\n",
       "  <tbody>\n",
       "    <tr>\n",
       "      <th>0</th>\n",
       "      <td>20220622</td>\n",
       "      <td>11460</td>\n",
       "      <td>11550</td>\n",
       "      <td>11310</td>\n",
       "      <td>11440</td>\n",
       "      <td>43038062</td>\n",
       "    </tr>\n",
       "    <tr>\n",
       "      <th>1</th>\n",
       "      <td>20220621</td>\n",
       "      <td>11580</td>\n",
       "      <td>11610</td>\n",
       "      <td>11460</td>\n",
       "      <td>11550</td>\n",
       "      <td>42656631</td>\n",
       "    </tr>\n",
       "    <tr>\n",
       "      <th>2</th>\n",
       "      <td>20220620</td>\n",
       "      <td>11590</td>\n",
       "      <td>11740</td>\n",
       "      <td>11580</td>\n",
       "      <td>11620</td>\n",
       "      <td>49782910</td>\n",
       "    </tr>\n",
       "    <tr>\n",
       "      <th>3</th>\n",
       "      <td>20220619</td>\n",
       "      <td>11660</td>\n",
       "      <td>11740</td>\n",
       "      <td>11560</td>\n",
       "      <td>11610</td>\n",
       "      <td>45368856</td>\n",
       "    </tr>\n",
       "    <tr>\n",
       "      <th>4</th>\n",
       "      <td>20220618</td>\n",
       "      <td>11650</td>\n",
       "      <td>11750</td>\n",
       "      <td>11550</td>\n",
       "      <td>11610</td>\n",
       "      <td>60658889</td>\n",
       "    </tr>\n",
       "    <tr>\n",
       "      <th>...</th>\n",
       "      <td>...</td>\n",
       "      <td>...</td>\n",
       "      <td>...</td>\n",
       "      <td>...</td>\n",
       "      <td>...</td>\n",
       "      <td>...</td>\n",
       "    </tr>\n",
       "    <tr>\n",
       "      <th>3532</th>\n",
       "      <td>20070627</td>\n",
       "      <td>2070</td>\n",
       "      <td>2070</td>\n",
       "      <td>2052</td>\n",
       "      <td>2061</td>\n",
       "      <td>4943752</td>\n",
       "    </tr>\n",
       "    <tr>\n",
       "      <th>3533</th>\n",
       "      <td>20070626</td>\n",
       "      <td>2137</td>\n",
       "      <td>2137</td>\n",
       "      <td>2065</td>\n",
       "      <td>2093</td>\n",
       "      <td>9614186</td>\n",
       "    </tr>\n",
       "    <tr>\n",
       "      <th>3534</th>\n",
       "      <td>20070625</td>\n",
       "      <td>2065</td>\n",
       "      <td>2097</td>\n",
       "      <td>2062</td>\n",
       "      <td>2096</td>\n",
       "      <td>10909057</td>\n",
       "    </tr>\n",
       "    <tr>\n",
       "      <th>3535</th>\n",
       "      <td>20070624</td>\n",
       "      <td>2030</td>\n",
       "      <td>2068</td>\n",
       "      <td>2026</td>\n",
       "      <td>2056</td>\n",
       "      <td>7875528</td>\n",
       "    </tr>\n",
       "    <tr>\n",
       "      <th>3536</th>\n",
       "      <td>20070623</td>\n",
       "      <td>2000</td>\n",
       "      <td>2030</td>\n",
       "      <td>1995</td>\n",
       "      <td>2028</td>\n",
       "      <td>9940077</td>\n",
       "    </tr>\n",
       "  </tbody>\n",
       "</table>\n",
       "<p>3537 rows × 6 columns</p>\n",
       "</div>"
      ],
      "text/plain": [
       "          date   Open   High    Low  Close    Volume\n",
       "0     20220622  11460  11550  11310  11440  43038062\n",
       "1     20220621  11580  11610  11460  11550  42656631\n",
       "2     20220620  11590  11740  11580  11620  49782910\n",
       "3     20220619  11660  11740  11560  11610  45368856\n",
       "4     20220618  11650  11750  11550  11610  60658889\n",
       "...        ...    ...    ...    ...    ...       ...\n",
       "3532  20070627   2070   2070   2052   2061   4943752\n",
       "3533  20070626   2137   2137   2065   2093   9614186\n",
       "3534  20070625   2065   2097   2062   2096  10909057\n",
       "3535  20070624   2030   2068   2026   2056   7875528\n",
       "3536  20070623   2000   2030   1995   2028   9940077\n",
       "\n",
       "[3537 rows x 6 columns]"
      ]
     },
     "execution_count": 228,
     "metadata": {},
     "output_type": "execute_result"
    }
   ],
   "source": [
    "data"
   ]
  },
  {
   "cell_type": "code",
   "execution_count": 229,
   "id": "e6685353-9eac-4503-bda3-7e2475c1f94d",
   "metadata": {},
   "outputs": [],
   "source": [
    "#from stockstats import StockDataFrame as Sdf"
   ]
  },
  {
   "cell_type": "code",
   "execution_count": 230,
   "id": "6763bf41-8346-49b0-a4bd-e0ac123d3e4f",
   "metadata": {},
   "outputs": [],
   "source": [
    "#stock = Sdf.retype(data)"
   ]
  },
  {
   "cell_type": "code",
   "execution_count": 231,
   "id": "612c5b0d-d840-45d8-b4f2-c0ce2831901b",
   "metadata": {},
   "outputs": [],
   "source": [
    "#data['macd']=stock['macd']\n",
    "#data.sort_values(by=['date'], inplace=True, ascending=False)\n",
    "#data"
   ]
  },
  {
   "cell_type": "code",
   "execution_count": 232,
   "id": "ab658f0a-3047-44b2-8805-f4adee0d0ff8",
   "metadata": {},
   "outputs": [],
   "source": [
    "#data['rsi']=stock['rsi']\n",
    "#data['rsi']=stock['rsi_14']"
   ]
  },
  {
   "cell_type": "code",
   "execution_count": 233,
   "id": "20d264ad-2c22-4a11-8478-74ff7e2d10d5",
   "metadata": {},
   "outputs": [],
   "source": [
    "#data"
   ]
  },
  {
   "cell_type": "code",
   "execution_count": 234,
   "id": "111c833b-cef2-4429-a551-dcc353d13531",
   "metadata": {},
   "outputs": [],
   "source": [
    "#data['CCI']=stock['cci']\n",
    "#data['STCK%']=stock['kdjk']\n",
    "#data['ADO'] = (data['high'] - data['close'])/(data['high']-data['low'])"
   ]
  },
  {
   "cell_type": "code",
   "execution_count": 235,
   "id": "acf34b39-0583-4170-834c-1535cb077c55",
   "metadata": {},
   "outputs": [],
   "source": [
    "#data"
   ]
  },
  {
   "cell_type": "code",
   "execution_count": 236,
   "id": "60e77616-7f32-4e32-a5ed-70f0a46983d5",
   "metadata": {},
   "outputs": [],
   "source": [
    "#data['wr_12']=stock['wr_12']"
   ]
  },
  {
   "cell_type": "code",
   "execution_count": 237,
   "id": "2957ce82-3981-4e97-a9eb-ea4dbf306bd2",
   "metadata": {},
   "outputs": [],
   "source": [
    "#data['open_2_sma'] = stock['open_2_sma']\n",
    "#data"
   ]
  },
  {
   "cell_type": "code",
   "execution_count": 238,
   "id": "f9a8fd62-bf0f-4122-a634-8ec9a25e66af",
   "metadata": {},
   "outputs": [],
   "source": [
    "#data.replace([np.inf, -np.inf], np.nan)\n",
    "#data.dropna()"
   ]
  },
  {
   "cell_type": "code",
   "execution_count": 239,
   "id": "f2f33e62-0bbb-443f-a992-df88e858a976",
   "metadata": {},
   "outputs": [],
   "source": [
    "#data.isnull().any()"
   ]
  },
  {
   "cell_type": "code",
   "execution_count": 240,
   "id": "5ca05e1c-2850-4c00-9784-c0d22ab246f4",
   "metadata": {},
   "outputs": [],
   "source": [
    "#Drop rows with NaN values\n",
    "#data['open'].dropna()\n",
    "#data.describe()\n",
    "#data = data.dropna(subset=['open'])\n",
    "#data = data.dropna(subset=['high'])\n",
    "#data = data.dropna(subset=['low'])\n",
    "#data = data.dropna(subset=['close'])\n",
    "#data = data.dropna(subset=['adj close*'])\n",
    "#data = data.dropna(subset=['volume'])\n",
    "#data = data.dropna(subset=['macd'])\n",
    "#data = data.dropna(subset=['rsi'])\n",
    "#data = data.dropna(subset=['wr_12'])\n",
    "#data = data.dropna(subset=['open_2_sma'])\n",
    "#data = data.dropna(subset=['CCI'])\n",
    "#data = data.dropna(subset=['ADO'])\n",
    "#data.isnull().any()"
   ]
  },
  {
   "cell_type": "code",
   "execution_count": 241,
   "id": "3e0c4f61-dc02-40ae-83fd-1e636b1735f3",
   "metadata": {},
   "outputs": [
    {
     "data": {
      "text/html": [
       "<div>\n",
       "<style scoped>\n",
       "    .dataframe tbody tr th:only-of-type {\n",
       "        vertical-align: middle;\n",
       "    }\n",
       "\n",
       "    .dataframe tbody tr th {\n",
       "        vertical-align: top;\n",
       "    }\n",
       "\n",
       "    .dataframe thead th {\n",
       "        text-align: right;\n",
       "    }\n",
       "</style>\n",
       "<table border=\"1\" class=\"dataframe\">\n",
       "  <thead>\n",
       "    <tr style=\"text-align: right;\">\n",
       "      <th></th>\n",
       "      <th>date</th>\n",
       "      <th>Open</th>\n",
       "      <th>High</th>\n",
       "      <th>Low</th>\n",
       "      <th>Close</th>\n",
       "      <th>Volume</th>\n",
       "    </tr>\n",
       "  </thead>\n",
       "  <tbody>\n",
       "    <tr>\n",
       "      <th>3532</th>\n",
       "      <td>20070627</td>\n",
       "      <td>2070</td>\n",
       "      <td>2070</td>\n",
       "      <td>2052</td>\n",
       "      <td>2061</td>\n",
       "      <td>4943752</td>\n",
       "    </tr>\n",
       "    <tr>\n",
       "      <th>3533</th>\n",
       "      <td>20070626</td>\n",
       "      <td>2137</td>\n",
       "      <td>2137</td>\n",
       "      <td>2065</td>\n",
       "      <td>2093</td>\n",
       "      <td>9614186</td>\n",
       "    </tr>\n",
       "    <tr>\n",
       "      <th>3534</th>\n",
       "      <td>20070625</td>\n",
       "      <td>2065</td>\n",
       "      <td>2097</td>\n",
       "      <td>2062</td>\n",
       "      <td>2096</td>\n",
       "      <td>10909057</td>\n",
       "    </tr>\n",
       "    <tr>\n",
       "      <th>3535</th>\n",
       "      <td>20070624</td>\n",
       "      <td>2030</td>\n",
       "      <td>2068</td>\n",
       "      <td>2026</td>\n",
       "      <td>2056</td>\n",
       "      <td>7875528</td>\n",
       "    </tr>\n",
       "    <tr>\n",
       "      <th>3536</th>\n",
       "      <td>20070623</td>\n",
       "      <td>2000</td>\n",
       "      <td>2030</td>\n",
       "      <td>1995</td>\n",
       "      <td>2028</td>\n",
       "      <td>9940077</td>\n",
       "    </tr>\n",
       "  </tbody>\n",
       "</table>\n",
       "</div>"
      ],
      "text/plain": [
       "          date  Open  High   Low  Close    Volume\n",
       "3532  20070627  2070  2070  2052   2061   4943752\n",
       "3533  20070626  2137  2137  2065   2093   9614186\n",
       "3534  20070625  2065  2097  2062   2096  10909057\n",
       "3535  20070624  2030  2068  2026   2056   7875528\n",
       "3536  20070623  2000  2030  1995   2028   9940077"
      ]
     },
     "execution_count": 241,
     "metadata": {},
     "output_type": "execute_result"
    }
   ],
   "source": [
    "data= data.dropna(axis=0)\n",
    "data.tail()"
   ]
  },
  {
   "cell_type": "code",
   "execution_count": 242,
   "id": "61fada78-a76a-4d07-b9eb-75b8c38e6464",
   "metadata": {},
   "outputs": [],
   "source": [
    "from keras.layers import Dense, Dropout, Activation, LSTM, Convolution1D, MaxPooling1D, Flatten\n",
    "from keras.models import Sequential"
   ]
  },
  {
   "cell_type": "code",
   "execution_count": 243,
   "id": "a6cfd68b-f40e-4d00-aef3-4bd3b786f651",
   "metadata": {},
   "outputs": [
    {
     "name": "stdout",
     "output_type": "stream",
     "text": [
      "(3537, 4)\n"
     ]
    }
   ],
   "source": [
    "data= data.values[:, 1:5]\n",
    "print (data.shape)"
   ]
  },
  {
   "cell_type": "code",
   "execution_count": 244,
   "id": "d2d3aa64-983e-4774-ae2c-d7e6bf84ad08",
   "metadata": {},
   "outputs": [
    {
     "name": "stdout",
     "output_type": "stream",
     "text": [
      "[[11460 11550 11310 11440]\n",
      " [11580 11610 11460 11550]\n",
      " [11590 11740 11580 11620]\n",
      " [11660 11740 11560 11610]\n",
      " [11650 11750 11550 11610]\n",
      " [11730 11990 11580 11710]]\n"
     ]
    }
   ],
   "source": [
    "print (data[:6, :])"
   ]
  },
  {
   "cell_type": "code",
   "execution_count": 245,
   "id": "e6b334c0-d89b-4bf0-88e8-f4c0a4d051d7",
   "metadata": {},
   "outputs": [
    {
     "name": "stdout",
     "output_type": "stream",
     "text": [
      "(3536,)\n",
      "(3536, 4)\n"
     ]
    }
   ],
   "source": [
    "y= data[1:, 3]\n",
    "print (y.shape)\n",
    "X= data[:3536,:]\n",
    "print (X.shape)"
   ]
  },
  {
   "cell_type": "code",
   "execution_count": 246,
   "id": "819e3e28-e8b0-4a05-85e1-4e038e437d15",
   "metadata": {},
   "outputs": [
    {
     "name": "stdout",
     "output_type": "stream",
     "text": [
      "[0.04858872 0.04682186 0.04823535 0.04836786 0.046601   0.04536419]\n",
      "[0.46596581 0.46905782 0.4686161  0.4686161  0.47303326 0.47789213\n",
      " 0.47789213]\n"
     ]
    }
   ],
   "source": [
    "y= (y- min(y))/(max(y)- min(y))\n",
    "print (y[3530:])\n",
    "print (y[:7])"
   ]
  },
  {
   "cell_type": "code",
   "execution_count": 247,
   "id": "daf01c9d-d16a-489a-8aab-ec70f7495a82",
   "metadata": {},
   "outputs": [
    {
     "name": "stdout",
     "output_type": "stream",
     "text": [
      "(3536, 4)\n",
      "[[0.48974359 0.46535052 0.49388646 0.46110694]\n",
      " [0.49487179 0.46776793 0.50043668 0.46596581]\n",
      " [0.49529915 0.47300564 0.50567686 0.46905782]]\n"
     ]
    }
   ],
   "source": [
    "X= (X- np.min(X,axis=0))/(np.max(X, axis=0)-np.min(X,axis=0))\n",
    "print (X.shape)\n",
    "print (X[:3, :])"
   ]
  },
  {
   "cell_type": "code",
   "execution_count": 248,
   "id": "6e10a2e4-6bb7-4ee9-ae7e-fca2c378d199",
   "metadata": {},
   "outputs": [
    {
     "name": "stdout",
     "output_type": "stream",
     "text": [
      "(3437, 100, 4) (3437,)\n"
     ]
    }
   ],
   "source": [
    "time_steps= 100\n",
    "X_new= np.zeros((X.shape[0] - time_steps +1, 100, X.shape[1]))\n",
    "y_new= np.zeros((y.shape[0] -time_steps +1,))\n",
    "for ix in range(X_new.shape[0]):\n",
    "    for jx in range(time_steps):\n",
    "        X_new[ix, jx, :]= X[ix +jx, :]\n",
    "    y_new[ix]= y[ix + time_steps -1]\n",
    "print (X_new.shape, y_new.shape)"
   ]
  },
  {
   "cell_type": "code",
   "execution_count": 249,
   "id": "4c6c462c-7edf-4043-bb5d-2890e10516b1",
   "metadata": {},
   "outputs": [
    {
     "name": "stdout",
     "output_type": "stream",
     "text": [
      "(2829, 100, 4) (2829,)\n",
      "(608, 100, 4) (608,)\n"
     ]
    }
   ],
   "source": [
    "split = int(0.8*data.shape[0])\n",
    "X_train = X_new[:split]\n",
    "X_test = X_new[split:]\n",
    "\n",
    "y_train = y_new[:split]\n",
    "y_test = y_new[split:]\n",
    "\n",
    "print (X_train.shape, y_train.shape)\n",
    "print (X_test.shape, y_test.shape)"
   ]
  },
  {
   "cell_type": "code",
   "execution_count": 250,
   "id": "1d122f2a-c969-43d4-8d4d-af2dfff89bb3",
   "metadata": {},
   "outputs": [
    {
     "name": "stdout",
     "output_type": "stream",
     "text": [
      "Model: \"sequential_10\"\n",
      "_________________________________________________________________\n",
      " Layer (type)                Output Shape              Param #   \n",
      "=================================================================\n",
      " conv1d_20 (Conv1D)          (None, 100, 64)           832       \n",
      "                                                                 \n",
      " max_pooling1d_20 (MaxPoolin  (None, 50, 64)           0         \n",
      " g1D)                                                            \n",
      "                                                                 \n",
      " lstm_10 (LSTM)              (None, 50, 100)           66000     \n",
      "                                                                 \n",
      " dropout_10 (Dropout)        (None, 50, 100)           0         \n",
      "                                                                 \n",
      " conv1d_21 (Conv1D)          (None, 50, 32)            9632      \n",
      "                                                                 \n",
      " max_pooling1d_21 (MaxPoolin  (None, 25, 32)           0         \n",
      " g1D)                                                            \n",
      "                                                                 \n",
      " flatten_10 (Flatten)        (None, 800)               0         \n",
      "                                                                 \n",
      " dense_10 (Dense)            (None, 1)                 801       \n",
      "                                                                 \n",
      " activation_10 (Activation)  (None, 1)                 0         \n",
      "                                                                 \n",
      "=================================================================\n",
      "Total params: 77,265\n",
      "Trainable params: 77,265\n",
      "Non-trainable params: 0\n",
      "_________________________________________________________________\n"
     ]
    }
   ],
   "source": [
    "model = Sequential()\n",
    "model.add(Convolution1D(64, 3, padding='same',input_shape= (100,4)))\n",
    "model.add(MaxPooling1D(pool_size=2))\n",
    "model.add(LSTM(100, return_sequences=True))\n",
    "model.add(Dropout(0.2))\n",
    "model.add(Convolution1D(32, 3, padding='same'))\n",
    "model.add(MaxPooling1D(pool_size=2))\n",
    "model.add(Flatten())\n",
    "model.add(Dense(units=1))\n",
    "model.add(Activation('linear'))\n",
    "\n",
    "model.summary()"
   ]
  },
  {
   "cell_type": "code",
   "execution_count": 251,
   "id": "37095a09-4ba8-44dd-ad82-9ed5954d8874",
   "metadata": {},
   "outputs": [],
   "source": [
    "model.compile(loss='mse', optimizer='rmsprop', metrics=['accuracy'])"
   ]
  },
  {
   "cell_type": "code",
   "execution_count": 252,
   "id": "84dabd40-49b0-42a6-93b5-9daffa59c930",
   "metadata": {},
   "outputs": [
    {
     "name": "stdout",
     "output_type": "stream",
     "text": [
      "Epoch 1/75\n",
      "12/12 - 6s - loss: 0.0321 - accuracy: 7.0696e-04 - val_loss: 9.0011e-04 - val_accuracy: 0.0000e+00 - 6s/epoch - 472ms/step\n",
      "Epoch 2/75\n",
      "12/12 - 2s - loss: 0.0032 - accuracy: 7.0696e-04 - val_loss: 0.0017 - val_accuracy: 0.0000e+00 - 2s/epoch - 160ms/step\n",
      "Epoch 3/75\n",
      "12/12 - 2s - loss: 0.0042 - accuracy: 7.0696e-04 - val_loss: 0.0015 - val_accuracy: 0.0000e+00 - 2s/epoch - 162ms/step\n",
      "Epoch 4/75\n",
      "12/12 - 2s - loss: 0.0037 - accuracy: 7.0696e-04 - val_loss: 7.1977e-04 - val_accuracy: 0.0000e+00 - 2s/epoch - 151ms/step\n",
      "Epoch 5/75\n",
      "12/12 - 2s - loss: 0.0044 - accuracy: 7.0696e-04 - val_loss: 6.5007e-04 - val_accuracy: 0.0000e+00 - 2s/epoch - 130ms/step\n",
      "Epoch 6/75\n",
      "12/12 - 2s - loss: 0.0029 - accuracy: 7.0696e-04 - val_loss: 9.2415e-04 - val_accuracy: 0.0000e+00 - 2s/epoch - 128ms/step\n",
      "Epoch 7/75\n",
      "12/12 - 2s - loss: 0.0032 - accuracy: 7.0696e-04 - val_loss: 6.8292e-04 - val_accuracy: 0.0000e+00 - 2s/epoch - 129ms/step\n",
      "Epoch 8/75\n",
      "12/12 - 2s - loss: 0.0032 - accuracy: 7.0696e-04 - val_loss: 6.8866e-04 - val_accuracy: 0.0000e+00 - 2s/epoch - 130ms/step\n",
      "Epoch 9/75\n",
      "12/12 - 2s - loss: 0.0015 - accuracy: 7.0696e-04 - val_loss: 5.7754e-04 - val_accuracy: 0.0000e+00 - 2s/epoch - 128ms/step\n",
      "Epoch 10/75\n",
      "12/12 - 2s - loss: 0.0030 - accuracy: 7.0696e-04 - val_loss: 5.0614e-04 - val_accuracy: 0.0000e+00 - 2s/epoch - 130ms/step\n",
      "Epoch 11/75\n",
      "12/12 - 2s - loss: 0.0022 - accuracy: 7.0696e-04 - val_loss: 5.8267e-04 - val_accuracy: 0.0000e+00 - 2s/epoch - 129ms/step\n",
      "Epoch 12/75\n",
      "12/12 - 2s - loss: 0.0019 - accuracy: 7.0696e-04 - val_loss: 4.3151e-04 - val_accuracy: 0.0000e+00 - 2s/epoch - 129ms/step\n",
      "Epoch 13/75\n",
      "12/12 - 2s - loss: 0.0026 - accuracy: 7.0696e-04 - val_loss: 3.8088e-04 - val_accuracy: 0.0000e+00 - 2s/epoch - 130ms/step\n",
      "Epoch 14/75\n",
      "12/12 - 2s - loss: 0.0023 - accuracy: 7.0696e-04 - val_loss: 5.6623e-04 - val_accuracy: 0.0000e+00 - 2s/epoch - 131ms/step\n",
      "Epoch 15/75\n",
      "12/12 - 2s - loss: 0.0013 - accuracy: 7.0696e-04 - val_loss: 0.0017 - val_accuracy: 0.0000e+00 - 2s/epoch - 130ms/step\n",
      "Epoch 16/75\n",
      "12/12 - 2s - loss: 0.0028 - accuracy: 7.0696e-04 - val_loss: 7.1671e-04 - val_accuracy: 0.0000e+00 - 2s/epoch - 130ms/step\n",
      "Epoch 17/75\n",
      "12/12 - 2s - loss: 0.0013 - accuracy: 7.0696e-04 - val_loss: 4.6105e-04 - val_accuracy: 0.0000e+00 - 2s/epoch - 132ms/step\n",
      "Epoch 18/75\n",
      "12/12 - 2s - loss: 0.0020 - accuracy: 7.0696e-04 - val_loss: 3.8918e-04 - val_accuracy: 0.0000e+00 - 2s/epoch - 129ms/step\n",
      "Epoch 19/75\n",
      "12/12 - 2s - loss: 0.0015 - accuracy: 7.0696e-04 - val_loss: 3.9406e-04 - val_accuracy: 0.0000e+00 - 2s/epoch - 129ms/step\n",
      "Epoch 20/75\n",
      "12/12 - 2s - loss: 0.0012 - accuracy: 7.0696e-04 - val_loss: 4.5243e-04 - val_accuracy: 0.0000e+00 - 2s/epoch - 128ms/step\n",
      "Epoch 21/75\n",
      "12/12 - 2s - loss: 0.0019 - accuracy: 7.0696e-04 - val_loss: 4.1185e-04 - val_accuracy: 0.0000e+00 - 2s/epoch - 129ms/step\n",
      "Epoch 22/75\n",
      "12/12 - 2s - loss: 0.0011 - accuracy: 7.0696e-04 - val_loss: 7.4918e-04 - val_accuracy: 0.0000e+00 - 2s/epoch - 127ms/step\n",
      "Epoch 23/75\n",
      "12/12 - 2s - loss: 0.0019 - accuracy: 7.0696e-04 - val_loss: 2.9361e-04 - val_accuracy: 0.0000e+00 - 2s/epoch - 131ms/step\n",
      "Epoch 24/75\n",
      "12/12 - 2s - loss: 0.0011 - accuracy: 7.0696e-04 - val_loss: 2.5856e-04 - val_accuracy: 0.0000e+00 - 2s/epoch - 127ms/step\n",
      "Epoch 25/75\n",
      "12/12 - 2s - loss: 0.0012 - accuracy: 7.0696e-04 - val_loss: 2.1095e-04 - val_accuracy: 0.0000e+00 - 2s/epoch - 129ms/step\n",
      "Epoch 26/75\n",
      "12/12 - 2s - loss: 0.0015 - accuracy: 7.0696e-04 - val_loss: 3.0986e-04 - val_accuracy: 0.0000e+00 - 2s/epoch - 127ms/step\n",
      "Epoch 27/75\n",
      "12/12 - 2s - loss: 9.9663e-04 - accuracy: 7.0696e-04 - val_loss: 5.6706e-04 - val_accuracy: 0.0000e+00 - 2s/epoch - 130ms/step\n",
      "Epoch 28/75\n",
      "12/12 - 2s - loss: 0.0012 - accuracy: 7.0696e-04 - val_loss: 3.2403e-04 - val_accuracy: 0.0000e+00 - 2s/epoch - 130ms/step\n",
      "Epoch 29/75\n",
      "12/12 - 2s - loss: 0.0013 - accuracy: 7.0696e-04 - val_loss: 2.7262e-04 - val_accuracy: 0.0000e+00 - 2s/epoch - 130ms/step\n",
      "Epoch 30/75\n",
      "12/12 - 2s - loss: 0.0010 - accuracy: 7.0696e-04 - val_loss: 5.6226e-04 - val_accuracy: 0.0000e+00 - 2s/epoch - 130ms/step\n",
      "Epoch 31/75\n",
      "12/12 - 2s - loss: 0.0011 - accuracy: 7.0696e-04 - val_loss: 3.1969e-04 - val_accuracy: 0.0000e+00 - 2s/epoch - 130ms/step\n",
      "Epoch 32/75\n",
      "12/12 - 2s - loss: 0.0011 - accuracy: 7.0696e-04 - val_loss: 4.5761e-04 - val_accuracy: 0.0000e+00 - 2s/epoch - 129ms/step\n",
      "Epoch 33/75\n",
      "12/12 - 2s - loss: 0.0011 - accuracy: 7.0696e-04 - val_loss: 2.4057e-04 - val_accuracy: 0.0000e+00 - 2s/epoch - 130ms/step\n",
      "Epoch 34/75\n",
      "12/12 - 2s - loss: 9.3101e-04 - accuracy: 7.0696e-04 - val_loss: 3.1527e-04 - val_accuracy: 0.0000e+00 - 2s/epoch - 131ms/step\n",
      "Epoch 35/75\n",
      "12/12 - 2s - loss: 0.0011 - accuracy: 7.0696e-04 - val_loss: 2.0679e-04 - val_accuracy: 0.0000e+00 - 2s/epoch - 131ms/step\n",
      "Epoch 36/75\n",
      "12/12 - 2s - loss: 8.0090e-04 - accuracy: 7.0696e-04 - val_loss: 3.8452e-04 - val_accuracy: 0.0000e+00 - 2s/epoch - 131ms/step\n",
      "Epoch 37/75\n",
      "12/12 - 2s - loss: 9.4739e-04 - accuracy: 7.0696e-04 - val_loss: 1.4347e-04 - val_accuracy: 0.0000e+00 - 2s/epoch - 130ms/step\n",
      "Epoch 38/75\n",
      "12/12 - 2s - loss: 9.0650e-04 - accuracy: 7.0696e-04 - val_loss: 2.1133e-04 - val_accuracy: 0.0000e+00 - 2s/epoch - 130ms/step\n",
      "Epoch 39/75\n",
      "12/12 - 2s - loss: 7.5368e-04 - accuracy: 7.0696e-04 - val_loss: 1.5178e-04 - val_accuracy: 0.0000e+00 - 2s/epoch - 130ms/step\n",
      "Epoch 40/75\n",
      "12/12 - 2s - loss: 9.0359e-04 - accuracy: 7.0696e-04 - val_loss: 5.6665e-04 - val_accuracy: 0.0000e+00 - 2s/epoch - 129ms/step\n",
      "Epoch 41/75\n",
      "12/12 - 2s - loss: 6.9930e-04 - accuracy: 7.0696e-04 - val_loss: 2.6141e-04 - val_accuracy: 0.0000e+00 - 2s/epoch - 128ms/step\n",
      "Epoch 42/75\n",
      "12/12 - 2s - loss: 7.5118e-04 - accuracy: 7.0696e-04 - val_loss: 1.9261e-04 - val_accuracy: 0.0000e+00 - 2s/epoch - 129ms/step\n",
      "Epoch 43/75\n",
      "12/12 - 2s - loss: 7.5932e-04 - accuracy: 7.0696e-04 - val_loss: 1.5425e-04 - val_accuracy: 0.0000e+00 - 2s/epoch - 129ms/step\n",
      "Epoch 44/75\n",
      "12/12 - 2s - loss: 8.2917e-04 - accuracy: 7.0696e-04 - val_loss: 1.5189e-04 - val_accuracy: 0.0000e+00 - 2s/epoch - 128ms/step\n",
      "Epoch 45/75\n",
      "12/12 - 2s - loss: 6.8749e-04 - accuracy: 7.0696e-04 - val_loss: 1.9031e-04 - val_accuracy: 0.0000e+00 - 2s/epoch - 128ms/step\n",
      "Epoch 46/75\n",
      "12/12 - 2s - loss: 7.0040e-04 - accuracy: 7.0696e-04 - val_loss: 3.8554e-04 - val_accuracy: 0.0000e+00 - 2s/epoch - 130ms/step\n",
      "Epoch 47/75\n",
      "12/12 - 2s - loss: 5.8549e-04 - accuracy: 7.0696e-04 - val_loss: 1.0487e-04 - val_accuracy: 0.0000e+00 - 2s/epoch - 130ms/step\n",
      "Epoch 48/75\n",
      "12/12 - 2s - loss: 9.0939e-04 - accuracy: 7.0696e-04 - val_loss: 2.0760e-04 - val_accuracy: 0.0000e+00 - 2s/epoch - 131ms/step\n",
      "Epoch 49/75\n",
      "12/12 - 2s - loss: 6.0018e-04 - accuracy: 7.0696e-04 - val_loss: 2.1668e-04 - val_accuracy: 0.0000e+00 - 2s/epoch - 132ms/step\n",
      "Epoch 50/75\n",
      "12/12 - 2s - loss: 5.1361e-04 - accuracy: 7.0696e-04 - val_loss: 4.2126e-04 - val_accuracy: 0.0000e+00 - 2s/epoch - 134ms/step\n",
      "Epoch 51/75\n",
      "12/12 - 2s - loss: 6.6743e-04 - accuracy: 7.0696e-04 - val_loss: 2.4922e-04 - val_accuracy: 0.0000e+00 - 2s/epoch - 134ms/step\n",
      "Epoch 52/75\n",
      "12/12 - 2s - loss: 7.8780e-04 - accuracy: 7.0696e-04 - val_loss: 3.3069e-04 - val_accuracy: 0.0000e+00 - 2s/epoch - 134ms/step\n",
      "Epoch 53/75\n",
      "12/12 - 2s - loss: 5.1401e-04 - accuracy: 7.0696e-04 - val_loss: 6.7601e-04 - val_accuracy: 0.0000e+00 - 2s/epoch - 134ms/step\n",
      "Epoch 54/75\n",
      "12/12 - 2s - loss: 5.4380e-04 - accuracy: 7.0696e-04 - val_loss: 1.3270e-04 - val_accuracy: 0.0000e+00 - 2s/epoch - 131ms/step\n",
      "Epoch 55/75\n",
      "12/12 - 2s - loss: 5.3110e-04 - accuracy: 7.0696e-04 - val_loss: 1.9195e-04 - val_accuracy: 0.0000e+00 - 2s/epoch - 129ms/step\n",
      "Epoch 56/75\n",
      "12/12 - 2s - loss: 5.8502e-04 - accuracy: 7.0696e-04 - val_loss: 1.8845e-04 - val_accuracy: 0.0000e+00 - 2s/epoch - 130ms/step\n",
      "Epoch 57/75\n",
      "12/12 - 2s - loss: 6.7559e-04 - accuracy: 7.0696e-04 - val_loss: 1.5372e-04 - val_accuracy: 0.0000e+00 - 2s/epoch - 131ms/step\n",
      "Epoch 58/75\n",
      "12/12 - 2s - loss: 5.5722e-04 - accuracy: 7.0696e-04 - val_loss: 9.8308e-05 - val_accuracy: 0.0000e+00 - 2s/epoch - 129ms/step\n",
      "Epoch 59/75\n",
      "12/12 - 2s - loss: 6.5795e-04 - accuracy: 7.0696e-04 - val_loss: 9.5206e-05 - val_accuracy: 0.0000e+00 - 2s/epoch - 129ms/step\n",
      "Epoch 60/75\n",
      "12/12 - 2s - loss: 4.4486e-04 - accuracy: 7.0696e-04 - val_loss: 2.0890e-04 - val_accuracy: 0.0000e+00 - 2s/epoch - 131ms/step\n",
      "Epoch 61/75\n",
      "12/12 - 2s - loss: 5.1309e-04 - accuracy: 7.0696e-04 - val_loss: 1.0802e-04 - val_accuracy: 0.0000e+00 - 2s/epoch - 130ms/step\n",
      "Epoch 62/75\n",
      "12/12 - 2s - loss: 5.3340e-04 - accuracy: 7.0696e-04 - val_loss: 1.5835e-04 - val_accuracy: 0.0000e+00 - 2s/epoch - 130ms/step\n",
      "Epoch 63/75\n",
      "12/12 - 2s - loss: 6.4446e-04 - accuracy: 7.0696e-04 - val_loss: 3.3828e-04 - val_accuracy: 0.0000e+00 - 2s/epoch - 130ms/step\n",
      "Epoch 64/75\n",
      "12/12 - 2s - loss: 5.7678e-04 - accuracy: 7.0696e-04 - val_loss: 1.3859e-04 - val_accuracy: 0.0000e+00 - 2s/epoch - 131ms/step\n",
      "Epoch 65/75\n",
      "12/12 - 2s - loss: 3.3810e-04 - accuracy: 7.0696e-04 - val_loss: 4.2859e-04 - val_accuracy: 0.0000e+00 - 2s/epoch - 135ms/step\n",
      "Epoch 66/75\n",
      "12/12 - 2s - loss: 7.1638e-04 - accuracy: 7.0696e-04 - val_loss: 2.1795e-04 - val_accuracy: 0.0000e+00 - 2s/epoch - 130ms/step\n",
      "Epoch 67/75\n",
      "12/12 - 2s - loss: 5.4013e-04 - accuracy: 7.0696e-04 - val_loss: 9.6513e-05 - val_accuracy: 0.0000e+00 - 2s/epoch - 131ms/step\n",
      "Epoch 68/75\n",
      "12/12 - 2s - loss: 5.6933e-04 - accuracy: 7.0696e-04 - val_loss: 1.2984e-04 - val_accuracy: 0.0000e+00 - 2s/epoch - 131ms/step\n",
      "Epoch 69/75\n",
      "12/12 - 2s - loss: 4.7865e-04 - accuracy: 7.0696e-04 - val_loss: 1.9942e-04 - val_accuracy: 0.0000e+00 - 2s/epoch - 132ms/step\n",
      "Epoch 70/75\n",
      "12/12 - 2s - loss: 4.6738e-04 - accuracy: 7.0696e-04 - val_loss: 7.6491e-05 - val_accuracy: 0.0000e+00 - 2s/epoch - 131ms/step\n",
      "Epoch 71/75\n",
      "12/12 - 2s - loss: 5.8014e-04 - accuracy: 7.0696e-04 - val_loss: 1.0769e-04 - val_accuracy: 0.0000e+00 - 2s/epoch - 132ms/step\n",
      "Epoch 72/75\n",
      "12/12 - 2s - loss: 4.5356e-04 - accuracy: 7.0696e-04 - val_loss: 4.3089e-04 - val_accuracy: 0.0000e+00 - 2s/epoch - 130ms/step\n",
      "Epoch 73/75\n",
      "12/12 - 2s - loss: 4.3235e-04 - accuracy: 7.0696e-04 - val_loss: 1.1510e-04 - val_accuracy: 0.0000e+00 - 2s/epoch - 130ms/step\n",
      "Epoch 74/75\n",
      "12/12 - 2s - loss: 4.5856e-04 - accuracy: 7.0696e-04 - val_loss: 2.1471e-04 - val_accuracy: 0.0000e+00 - 2s/epoch - 131ms/step\n",
      "Epoch 75/75\n",
      "12/12 - 2s - loss: 4.3872e-04 - accuracy: 7.0696e-04 - val_loss: 1.4214e-04 - val_accuracy: 0.0000e+00 - 2s/epoch - 131ms/step\n"
     ]
    },
    {
     "data": {
      "text/plain": [
       "<keras.callbacks.History at 0x2b4b3622830>"
      ]
     },
     "execution_count": 252,
     "metadata": {},
     "output_type": "execute_result"
    }
   ],
   "source": [
    "model.fit(X_train, y_train, batch_size=256, epochs=75, validation_data = (X_test, y_test), verbose=2)"
   ]
  },
  {
   "cell_type": "code",
   "execution_count": 253,
   "id": "8928e5e4-2125-40d5-a1ac-2fae1010b4b1",
   "metadata": {},
   "outputs": [
    {
     "name": "stdout",
     "output_type": "stream",
     "text": [
      "3/3 [==============================] - 0s 59ms/step - loss: 1.4214e-04 - accuracy: 0.0000e+00\n"
     ]
    }
   ],
   "source": [
    "score= model.evaluate(X_test, y_test, batch_size=256)"
   ]
  },
  {
   "cell_type": "code",
   "execution_count": 254,
   "id": "eccb143c-210c-4769-9e32-1d4d78e98db8",
   "metadata": {},
   "outputs": [
    {
     "name": "stdout",
     "output_type": "stream",
     "text": [
      "[0.00014213970280252397, 0.0]\n"
     ]
    }
   ],
   "source": [
    "print (score)"
   ]
  },
  {
   "cell_type": "code",
   "execution_count": 255,
   "id": "8488bf28-3d82-4878-8f3c-cc9bda4b7435",
   "metadata": {},
   "outputs": [
    {
     "name": "stdout",
     "output_type": "stream",
     "text": [
      "19/19 [==============================] - 1s 18ms/step\n"
     ]
    }
   ],
   "source": [
    "y_pred= model.predict(X_test)"
   ]
  },
  {
   "cell_type": "code",
   "execution_count": 256,
   "id": "39ab9dee-45aa-42d9-b85b-f4b0abb71cb2",
   "metadata": {},
   "outputs": [
    {
     "data": {
      "image/png": "[encoded data removed]",
      "text/plain": [
       "<Figure size 432x288 with 1 Axes>"
      ]
     },
     "metadata": {
      "needs_background": "light"
     },
     "output_type": "display_data"
    }
   ],
   "source": [
    "plt.plot(y_pred, 'r-')\n",
    "plt.plot(y_test, 'b-')\n",
    "plt.show()"
   ]
  },
  {
   "cell_type": "code",
   "execution_count": 221,
   "id": "046c2f49-1f97-4d12-a1a6-29295edcaef1",
   "metadata": {},
   "outputs": [],
   "source": [
    "import math"
   ]
  },
  {
   "cell_type": "code",
   "execution_count": 222,
   "id": "363cdeb1-ff6a-4c6d-99e5-497d24b67467",
   "metadata": {},
   "outputs": [
    {
     "name": "stdout",
     "output_type": "stream",
     "text": [
      "0.0045273843054054325\n"
     ]
    }
   ],
   "source": [
    "MSE = np.square(np.subtract(y_test,y_pred)).mean() \n",
    "print (MSE)"
   ]
  },
  {
   "cell_type": "code",
   "execution_count": 257,
   "id": "c911bd18-626c-447e-92ac-986ef94adec6",
   "metadata": {},
   "outputs": [
    {
     "name": "stdout",
     "output_type": "stream",
     "text": [
      "Root Mean Square Error:\n",
      "\n",
      "0.067285840303926\n"
     ]
    }
   ],
   "source": [
    "RMSE = math.sqrt(MSE)\n",
    "print(\"Root Mean Square Error:\\n\")\n",
    "print(RMSE)"
   ]
  },
  {
   "cell_type": "code",
   "execution_count": 258,
   "id": "7463ccad-03fb-47b8-a359-24f1f8fe9e26",
   "metadata": {},
   "outputs": [
    {
     "name": "stdout",
     "output_type": "stream",
     "text": [
      "0.048147244312073983\n"
     ]
    }
   ],
   "source": [
    "def mae(y_test, y_pred):\n",
    "    y_test, y_pred = np.array(y_test), np.array(y_pred)\n",
    "    return np.mean(np.abs(y_test - y_pred))\n",
    "print(mae(y_test, y_pred))"
   ]
  },
  {
   "cell_type": "code",
   "execution_count": 259,
   "id": "8dace545-f354-49c7-b881-7740a891c2bb",
   "metadata": {},
   "outputs": [
    {
     "data": {
      "image/png": "[encoded data removed]",
      "text/plain": [
       "<Figure size 432x288 with 1 Axes>"
      ]
     },
     "metadata": {
      "needs_background": "light"
     },
     "output_type": "display_data"
    }
   ],
   "source": [
    "plt.plot (y_pred, y_test, 'bo')\n",
    "plt.xlabel('y_pred')\n",
    "plt.ylabel('y_test')\n",
    "plt.show()"
   ]
  },
  {
   "cell_type": "code",
   "execution_count": null,
   "id": "8ad3e178-7443-400f-a1ca-fd03db0b31ad",
   "metadata": {},
   "outputs": [],
   "source": []
  }
 ],
 "metadata": {
  "kernelspec": {
   "display_name": "Python 3 (ipykernel)",
   "language": "python",
   "name": "python3"
  },
  "language_info": {
   "codemirror_mode": {
    "name": "ipython",
    "version": 3
   },
   "file_extension": ".py",
   "mimetype": "text/x-python",
   "name": "python",
   "nbconvert_exporter": "python",
   "pygments_lexer": "ipython3",
   "version": "3.10.4"
  }
 },
 "nbformat": 4,
 "nbformat_minor": 5
}
