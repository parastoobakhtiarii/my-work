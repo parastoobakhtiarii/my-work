{
 "cells": [
  {
   "cell_type": "code",
   "execution_count": 1,
   "metadata": {},
   "outputs": [],
   "source": [
    "import numpy as np\n",
    "import pandas as pd\n",
    "from keras.layers import Dense, Dropout, Activation, LSTM, Convolution1D, MaxPooling1D, Flatten\n",
    "from keras.models import Sequential\n",
    "import matplotlib.pyplot as plt\n",
    "%matplotlib inline"
   ]
  },
  {
   "cell_type": "code",
   "execution_count": 2,
   "metadata": {
    "tags": []
   },
   "outputs": [],
   "source": [
    "## Data preparation"
   ]
  },
  {
   "cell_type": "code",
   "execution_count": 3,
   "metadata": {},
   "outputs": [
    {
     "data": {
      "text/html": [
       "<div>\n",
       "<style scoped>\n",
       "    .dataframe tbody tr th:only-of-type {\n",
       "        vertical-align: middle;\n",
       "    }\n",
       "\n",
       "    .dataframe tbody tr th {\n",
       "        vertical-align: top;\n",
       "    }\n",
       "\n",
       "    .dataframe thead th {\n",
       "        text-align: right;\n",
       "    }\n",
       "</style>\n",
       "<table border=\"1\" class=\"dataframe\">\n",
       "  <thead>\n",
       "    <tr style=\"text-align: right;\">\n",
       "      <th></th>\n",
       "      <th>Date</th>\n",
       "      <th>Open</th>\n",
       "      <th>High</th>\n",
       "      <th>Low</th>\n",
       "      <th>Close</th>\n",
       "      <th>Volume</th>\n",
       "    </tr>\n",
       "  </thead>\n",
       "  <tbody>\n",
       "    <tr>\n",
       "      <th>0</th>\n",
       "      <td>20220622</td>\n",
       "      <td>1889</td>\n",
       "      <td>1959</td>\n",
       "      <td>1860</td>\n",
       "      <td>1921</td>\n",
       "      <td>280296146</td>\n",
       "    </tr>\n",
       "    <tr>\n",
       "      <th>1</th>\n",
       "      <td>20220621</td>\n",
       "      <td>1890</td>\n",
       "      <td>1929</td>\n",
       "      <td>1853</td>\n",
       "      <td>1887</td>\n",
       "      <td>159568083</td>\n",
       "    </tr>\n",
       "    <tr>\n",
       "      <th>2</th>\n",
       "      <td>20220620</td>\n",
       "      <td>1838</td>\n",
       "      <td>1902</td>\n",
       "      <td>1820</td>\n",
       "      <td>1887</td>\n",
       "      <td>352500257</td>\n",
       "    </tr>\n",
       "    <tr>\n",
       "      <th>3</th>\n",
       "      <td>20220619</td>\n",
       "      <td>1845</td>\n",
       "      <td>1846</td>\n",
       "      <td>1790</td>\n",
       "      <td>1812</td>\n",
       "      <td>166971140</td>\n",
       "    </tr>\n",
       "    <tr>\n",
       "      <th>4</th>\n",
       "      <td>20220618</td>\n",
       "      <td>1883</td>\n",
       "      <td>1915</td>\n",
       "      <td>1802</td>\n",
       "      <td>1833</td>\n",
       "      <td>182458314</td>\n",
       "    </tr>\n",
       "    <tr>\n",
       "      <th>...</th>\n",
       "      <td>...</td>\n",
       "      <td>...</td>\n",
       "      <td>...</td>\n",
       "      <td>...</td>\n",
       "      <td>...</td>\n",
       "      <td>...</td>\n",
       "    </tr>\n",
       "    <tr>\n",
       "      <th>3506</th>\n",
       "      <td>20070627</td>\n",
       "      <td>2692</td>\n",
       "      <td>2745</td>\n",
       "      <td>2692</td>\n",
       "      <td>2745</td>\n",
       "      <td>42104</td>\n",
       "    </tr>\n",
       "    <tr>\n",
       "      <th>3507</th>\n",
       "      <td>20070626</td>\n",
       "      <td>2693</td>\n",
       "      <td>2746</td>\n",
       "      <td>2693</td>\n",
       "      <td>2746</td>\n",
       "      <td>66263</td>\n",
       "    </tr>\n",
       "    <tr>\n",
       "      <th>3508</th>\n",
       "      <td>20070625</td>\n",
       "      <td>2695</td>\n",
       "      <td>2747</td>\n",
       "      <td>2695</td>\n",
       "      <td>2747</td>\n",
       "      <td>111180</td>\n",
       "    </tr>\n",
       "    <tr>\n",
       "      <th>3509</th>\n",
       "      <td>20070624</td>\n",
       "      <td>2697</td>\n",
       "      <td>2749</td>\n",
       "      <td>2697</td>\n",
       "      <td>2749</td>\n",
       "      <td>139490</td>\n",
       "    </tr>\n",
       "    <tr>\n",
       "      <th>3510</th>\n",
       "      <td>20070623</td>\n",
       "      <td>2714</td>\n",
       "      <td>2752</td>\n",
       "      <td>2714</td>\n",
       "      <td>2752</td>\n",
       "      <td>853036</td>\n",
       "    </tr>\n",
       "  </tbody>\n",
       "</table>\n",
       "<p>3511 rows × 6 columns</p>\n",
       "</div>"
      ],
      "text/plain": [
       "          Date  Open  High   Low  Close     Volume\n",
       "0     20220622  1889  1959  1860   1921  280296146\n",
       "1     20220621  1890  1929  1853   1887  159568083\n",
       "2     20220620  1838  1902  1820   1887  352500257\n",
       "3     20220619  1845  1846  1790   1812  166971140\n",
       "4     20220618  1883  1915  1802   1833  182458314\n",
       "...        ...   ...   ...   ...    ...        ...\n",
       "3506  20070627  2692  2745  2692   2745      42104\n",
       "3507  20070626  2693  2746  2693   2746      66263\n",
       "3508  20070625  2695  2747  2695   2747     111180\n",
       "3509  20070624  2697  2749  2697   2749     139490\n",
       "3510  20070623  2714  2752  2714   2752     853036\n",
       "\n",
       "[3511 rows x 6 columns]"
      ]
     },
     "execution_count": 3,
     "metadata": {},
     "output_type": "execute_result"
    }
   ],
   "source": [
    "data = pd.read_excel (r'C:\\Users\\Parastoo\\OneDrive\\Desktop\\khesapa2.xlsx')\n",
    "data"
   ]
  },
  {
   "cell_type": "code",
   "execution_count": 4,
   "metadata": {},
   "outputs": [
    {
     "data": {
      "text/html": [
       "<div>\n",
       "<style scoped>\n",
       "    .dataframe tbody tr th:only-of-type {\n",
       "        vertical-align: middle;\n",
       "    }\n",
       "\n",
       "    .dataframe tbody tr th {\n",
       "        vertical-align: top;\n",
       "    }\n",
       "\n",
       "    .dataframe thead th {\n",
       "        text-align: right;\n",
       "    }\n",
       "</style>\n",
       "<table border=\"1\" class=\"dataframe\">\n",
       "  <thead>\n",
       "    <tr style=\"text-align: right;\">\n",
       "      <th></th>\n",
       "      <th>Date</th>\n",
       "      <th>Open</th>\n",
       "      <th>High</th>\n",
       "      <th>Low</th>\n",
       "      <th>Close</th>\n",
       "      <th>Volume</th>\n",
       "    </tr>\n",
       "  </thead>\n",
       "  <tbody>\n",
       "    <tr>\n",
       "      <th>3506</th>\n",
       "      <td>20070627</td>\n",
       "      <td>2692</td>\n",
       "      <td>2745</td>\n",
       "      <td>2692</td>\n",
       "      <td>2745</td>\n",
       "      <td>42104</td>\n",
       "    </tr>\n",
       "    <tr>\n",
       "      <th>3507</th>\n",
       "      <td>20070626</td>\n",
       "      <td>2693</td>\n",
       "      <td>2746</td>\n",
       "      <td>2693</td>\n",
       "      <td>2746</td>\n",
       "      <td>66263</td>\n",
       "    </tr>\n",
       "    <tr>\n",
       "      <th>3508</th>\n",
       "      <td>20070625</td>\n",
       "      <td>2695</td>\n",
       "      <td>2747</td>\n",
       "      <td>2695</td>\n",
       "      <td>2747</td>\n",
       "      <td>111180</td>\n",
       "    </tr>\n",
       "    <tr>\n",
       "      <th>3509</th>\n",
       "      <td>20070624</td>\n",
       "      <td>2697</td>\n",
       "      <td>2749</td>\n",
       "      <td>2697</td>\n",
       "      <td>2749</td>\n",
       "      <td>139490</td>\n",
       "    </tr>\n",
       "    <tr>\n",
       "      <th>3510</th>\n",
       "      <td>20070623</td>\n",
       "      <td>2714</td>\n",
       "      <td>2752</td>\n",
       "      <td>2714</td>\n",
       "      <td>2752</td>\n",
       "      <td>853036</td>\n",
       "    </tr>\n",
       "  </tbody>\n",
       "</table>\n",
       "</div>"
      ],
      "text/plain": [
       "          Date  Open  High   Low  Close  Volume\n",
       "3506  20070627  2692  2745  2692   2745   42104\n",
       "3507  20070626  2693  2746  2693   2746   66263\n",
       "3508  20070625  2695  2747  2695   2747  111180\n",
       "3509  20070624  2697  2749  2697   2749  139490\n",
       "3510  20070623  2714  2752  2714   2752  853036"
      ]
     },
     "execution_count": 4,
     "metadata": {},
     "output_type": "execute_result"
    }
   ],
   "source": [
    "data= data.dropna(axis=0)\n",
    "data.tail()"
   ]
  },
  {
   "cell_type": "code",
   "execution_count": 5,
   "metadata": {},
   "outputs": [
    {
     "name": "stdout",
     "output_type": "stream",
     "text": [
      "(3511, 4)\n"
     ]
    }
   ],
   "source": [
    "data= data.values[:, 1:5]\n",
    "print (data.shape)"
   ]
  },
  {
   "cell_type": "code",
   "execution_count": 6,
   "metadata": {},
   "outputs": [
    {
     "name": "stdout",
     "output_type": "stream",
     "text": [
      "[[1889 1959 1860 1921]\n",
      " [1890 1929 1853 1887]\n",
      " [1838 1902 1820 1887]\n",
      " [1845 1846 1790 1812]\n",
      " [1883 1915 1802 1833]\n",
      " [1900 1917 1864 1883]]\n"
     ]
    }
   ],
   "source": [
    "print (data[:6, :])"
   ]
  },
  {
   "cell_type": "code",
   "execution_count": 7,
   "metadata": {},
   "outputs": [
    {
     "name": "stdout",
     "output_type": "stream",
     "text": [
      "(3510,)\n",
      "(3510, 4)\n"
     ]
    }
   ],
   "source": [
    "y= data[1:, 3]\n",
    "print (y.shape)\n",
    "X= data[:3510,:]\n",
    "print (X.shape)"
   ]
  },
  {
   "cell_type": "code",
   "execution_count": 8,
   "metadata": {},
   "outputs": [],
   "source": [
    "y= (y- min(y))/(max(y)- min(y))\n",
    "#print y[4270:]\n",
    "#print y[:7]"
   ]
  },
  {
   "cell_type": "code",
   "execution_count": 9,
   "metadata": {},
   "outputs": [
    {
     "name": "stdout",
     "output_type": "stream",
     "text": [
      "(3510, 4)\n",
      "[[0.32795139 0.32541528 0.3363472  0.25366426]\n",
      " [0.328125   0.32043189 0.33508137 0.24701974]\n",
      " [0.31909722 0.31594684 0.32911392 0.24701974]]\n"
     ]
    }
   ],
   "source": [
    "X= (X- np.min(X,axis=0))/(np.max(X, axis=0)-np.min(X,axis=0))\n",
    "print (X.shape)\n",
    "print (X[:3, :])"
   ]
  },
  {
   "cell_type": "code",
   "execution_count": 10,
   "metadata": {
    "tags": []
   },
   "outputs": [],
   "source": [
    "## Sequence data preparation"
   ]
  },
  {
   "cell_type": "code",
   "execution_count": 11,
   "metadata": {},
   "outputs": [
    {
     "name": "stdout",
     "output_type": "stream",
     "text": [
      "(3411, 100, 4) (3411,)\n"
     ]
    }
   ],
   "source": [
    "time_steps= 100\n",
    "X_new= np.zeros((X.shape[0] - time_steps +1, 100, X.shape[1]))\n",
    "y_new= np.zeros((y.shape[0] -time_steps +1,))\n",
    "for ix in range(X_new.shape[0]):\n",
    "    for jx in range(time_steps):\n",
    "        X_new[ix, jx, :]= X[ix +jx, :]\n",
    "    y_new[ix]= y[ix + time_steps -1 ]\n",
    "print (X_new.shape, y_new.shape)"
   ]
  },
  {
   "cell_type": "code",
   "execution_count": 12,
   "metadata": {
    "tags": []
   },
   "outputs": [],
   "source": [
    "## split into train and test sets"
   ]
  },
  {
   "cell_type": "code",
   "execution_count": 13,
   "metadata": {},
   "outputs": [
    {
     "name": "stdout",
     "output_type": "stream",
     "text": [
      "(2808, 100, 4) (2808,)\n",
      "(603, 100, 4) (603,)\n"
     ]
    }
   ],
   "source": [
    "split = int(0.8*data.shape[0])\n",
    "X_train = X_new[:split]\n",
    "X_test = X_new[split:]\n",
    "\n",
    "y_train = y_new[:split]\n",
    "y_test = y_new[split:]\n",
    "\n",
    "print (X_train.shape, y_train.shape)\n",
    "print (X_test.shape, y_test.shape)"
   ]
  },
  {
   "cell_type": "code",
   "execution_count": 14,
   "metadata": {
    "tags": []
   },
   "outputs": [],
   "source": [
    "## Model fitting"
   ]
  },
  {
   "cell_type": "code",
   "execution_count": 15,
   "metadata": {},
   "outputs": [
    {
     "name": "stdout",
     "output_type": "stream",
     "text": [
      "Model: \"sequential\"\n",
      "_________________________________________________________________\n",
      " Layer (type)                Output Shape              Param #   \n",
      "=================================================================\n",
      " conv1d (Conv1D)             (None, 100, 64)           832       \n",
      "                                                                 \n",
      " max_pooling1d (MaxPooling1D  (None, 50, 64)           0         \n",
      " )                                                               \n",
      "                                                                 \n",
      " conv1d_1 (Conv1D)           (None, 50, 32)            6176      \n",
      "                                                                 \n",
      " max_pooling1d_1 (MaxPooling  (None, 25, 32)           0         \n",
      " 1D)                                                             \n",
      "                                                                 \n",
      " flatten (Flatten)           (None, 800)               0         \n",
      "                                                                 \n",
      " dense (Dense)               (None, 1)                 801       \n",
      "                                                                 \n",
      " activation (Activation)     (None, 1)                 0         \n",
      "                                                                 \n",
      "=================================================================\n",
      "Total params: 7,809\n",
      "Trainable params: 7,809\n",
      "Non-trainable params: 0\n",
      "_________________________________________________________________\n"
     ]
    }
   ],
   "source": [
    "model = Sequential()\n",
    "model.add(Convolution1D(64, 3, input_shape= (100,4), padding='same'))\n",
    "model.add(MaxPooling1D(pool_size=2))\n",
    "model.add(Convolution1D(32, 3, padding='same'))\n",
    "model.add(MaxPooling1D(pool_size=2))\n",
    "model.add(Flatten())\n",
    "model.add(Dense(units=1))\n",
    "model.add(Activation('linear'))\n",
    "\n",
    "model.summary()"
   ]
  },
  {
   "cell_type": "code",
   "execution_count": 16,
   "metadata": {},
   "outputs": [],
   "source": [
    "model.compile(loss='mse', optimizer='rmsprop', metrics=['accuracy'])"
   ]
  },
  {
   "cell_type": "code",
   "execution_count": 17,
   "metadata": {},
   "outputs": [
    {
     "name": "stdout",
     "output_type": "stream",
     "text": [
      "Epoch 1/50\n",
      "11/11 - 1s - loss: 0.0399 - accuracy: 0.0100 - val_loss: 0.0035 - val_accuracy: 0.0000e+00 - 1s/epoch - 130ms/step\n",
      "Epoch 2/50\n",
      "11/11 - 0s - loss: 0.0091 - accuracy: 0.0103 - val_loss: 0.0251 - val_accuracy: 0.0000e+00 - 367ms/epoch - 33ms/step\n",
      "Epoch 3/50\n",
      "11/11 - 0s - loss: 0.0103 - accuracy: 0.0100 - val_loss: 0.0026 - val_accuracy: 0.0000e+00 - 364ms/epoch - 33ms/step\n",
      "Epoch 4/50\n",
      "11/11 - 0s - loss: 0.0096 - accuracy: 0.0103 - val_loss: 0.0055 - val_accuracy: 0.0000e+00 - 342ms/epoch - 31ms/step\n",
      "Epoch 5/50\n",
      "11/11 - 0s - loss: 0.0081 - accuracy: 0.0103 - val_loss: 0.0039 - val_accuracy: 0.0000e+00 - 269ms/epoch - 24ms/step\n",
      "Epoch 6/50\n",
      "11/11 - 0s - loss: 0.0055 - accuracy: 0.0103 - val_loss: 0.0113 - val_accuracy: 0.0000e+00 - 273ms/epoch - 25ms/step\n",
      "Epoch 7/50\n",
      "11/11 - 0s - loss: 0.0049 - accuracy: 0.0103 - val_loss: 0.0071 - val_accuracy: 0.0000e+00 - 274ms/epoch - 25ms/step\n",
      "Epoch 8/50\n",
      "11/11 - 0s - loss: 0.0043 - accuracy: 0.0103 - val_loss: 0.0014 - val_accuracy: 0.0000e+00 - 271ms/epoch - 25ms/step\n",
      "Epoch 9/50\n",
      "11/11 - 0s - loss: 0.0049 - accuracy: 0.0103 - val_loss: 0.0013 - val_accuracy: 0.0000e+00 - 272ms/epoch - 25ms/step\n",
      "Epoch 10/50\n",
      "11/11 - 0s - loss: 0.0028 - accuracy: 0.0103 - val_loss: 0.0049 - val_accuracy: 0.0000e+00 - 272ms/epoch - 25ms/step\n",
      "Epoch 11/50\n",
      "11/11 - 0s - loss: 0.0023 - accuracy: 0.0103 - val_loss: 0.0022 - val_accuracy: 0.0000e+00 - 275ms/epoch - 25ms/step\n",
      "Epoch 12/50\n",
      "11/11 - 0s - loss: 0.0031 - accuracy: 0.0103 - val_loss: 0.0018 - val_accuracy: 0.0000e+00 - 275ms/epoch - 25ms/step\n",
      "Epoch 13/50\n",
      "11/11 - 0s - loss: 0.0025 - accuracy: 0.0103 - val_loss: 0.0020 - val_accuracy: 0.0000e+00 - 272ms/epoch - 25ms/step\n",
      "Epoch 14/50\n",
      "11/11 - 0s - loss: 0.0018 - accuracy: 0.0103 - val_loss: 0.0022 - val_accuracy: 0.0000e+00 - 268ms/epoch - 24ms/step\n",
      "Epoch 15/50\n",
      "11/11 - 0s - loss: 0.0022 - accuracy: 0.0103 - val_loss: 4.0445e-04 - val_accuracy: 0.0000e+00 - 254ms/epoch - 23ms/step\n",
      "Epoch 16/50\n",
      "11/11 - 0s - loss: 0.0025 - accuracy: 0.0103 - val_loss: 8.2806e-04 - val_accuracy: 0.0000e+00 - 252ms/epoch - 23ms/step\n",
      "Epoch 17/50\n",
      "11/11 - 0s - loss: 0.0012 - accuracy: 0.0103 - val_loss: 0.0011 - val_accuracy: 0.0000e+00 - 240ms/epoch - 22ms/step\n",
      "Epoch 18/50\n",
      "11/11 - 0s - loss: 0.0011 - accuracy: 0.0103 - val_loss: 0.0020 - val_accuracy: 0.0000e+00 - 240ms/epoch - 22ms/step\n",
      "Epoch 19/50\n",
      "11/11 - 0s - loss: 0.0020 - accuracy: 0.0103 - val_loss: 4.1068e-04 - val_accuracy: 0.0000e+00 - 236ms/epoch - 21ms/step\n",
      "Epoch 20/50\n",
      "11/11 - 0s - loss: 0.0013 - accuracy: 0.0103 - val_loss: 0.0014 - val_accuracy: 0.0000e+00 - 240ms/epoch - 22ms/step\n",
      "Epoch 21/50\n",
      "11/11 - 0s - loss: 0.0014 - accuracy: 0.0103 - val_loss: 5.2288e-04 - val_accuracy: 0.0000e+00 - 240ms/epoch - 22ms/step\n",
      "Epoch 22/50\n",
      "11/11 - 0s - loss: 0.0013 - accuracy: 0.0103 - val_loss: 0.0011 - val_accuracy: 0.0000e+00 - 240ms/epoch - 22ms/step\n",
      "Epoch 23/50\n",
      "11/11 - 0s - loss: 0.0011 - accuracy: 0.0103 - val_loss: 6.0369e-04 - val_accuracy: 0.0000e+00 - 244ms/epoch - 22ms/step\n",
      "Epoch 24/50\n",
      "11/11 - 0s - loss: 0.0013 - accuracy: 0.0103 - val_loss: 7.8974e-04 - val_accuracy: 0.0000e+00 - 242ms/epoch - 22ms/step\n",
      "Epoch 25/50\n",
      "11/11 - 0s - loss: 7.2652e-04 - accuracy: 0.0103 - val_loss: 0.0019 - val_accuracy: 0.0000e+00 - 239ms/epoch - 22ms/step\n",
      "Epoch 26/50\n",
      "11/11 - 0s - loss: 0.0015 - accuracy: 0.0103 - val_loss: 2.6780e-04 - val_accuracy: 0.0000e+00 - 240ms/epoch - 22ms/step\n",
      "Epoch 27/50\n",
      "11/11 - 0s - loss: 0.0010 - accuracy: 0.0103 - val_loss: 0.0021 - val_accuracy: 0.0000e+00 - 239ms/epoch - 22ms/step\n",
      "Epoch 28/50\n",
      "11/11 - 0s - loss: 8.0623e-04 - accuracy: 0.0103 - val_loss: 5.3058e-04 - val_accuracy: 0.0000e+00 - 242ms/epoch - 22ms/step\n",
      "Epoch 29/50\n",
      "11/11 - 0s - loss: 0.0011 - accuracy: 0.0103 - val_loss: 6.7380e-04 - val_accuracy: 0.0000e+00 - 238ms/epoch - 22ms/step\n",
      "Epoch 30/50\n",
      "11/11 - 0s - loss: 0.0010 - accuracy: 0.0103 - val_loss: 5.6698e-04 - val_accuracy: 0.0000e+00 - 237ms/epoch - 22ms/step\n",
      "Epoch 31/50\n",
      "11/11 - 0s - loss: 7.2149e-04 - accuracy: 0.0103 - val_loss: 4.1623e-04 - val_accuracy: 0.0000e+00 - 239ms/epoch - 22ms/step\n",
      "Epoch 32/50\n",
      "11/11 - 0s - loss: 0.0012 - accuracy: 0.0103 - val_loss: 3.7458e-04 - val_accuracy: 0.0000e+00 - 243ms/epoch - 22ms/step\n",
      "Epoch 33/50\n",
      "11/11 - 0s - loss: 4.7706e-04 - accuracy: 0.0103 - val_loss: 3.7239e-04 - val_accuracy: 0.0000e+00 - 242ms/epoch - 22ms/step\n",
      "Epoch 34/50\n",
      "11/11 - 0s - loss: 0.0012 - accuracy: 0.0103 - val_loss: 2.3242e-04 - val_accuracy: 0.0000e+00 - 241ms/epoch - 22ms/step\n",
      "Epoch 35/50\n",
      "11/11 - 0s - loss: 6.2440e-04 - accuracy: 0.0103 - val_loss: 6.0903e-04 - val_accuracy: 0.0000e+00 - 244ms/epoch - 22ms/step\n",
      "Epoch 36/50\n",
      "11/11 - 0s - loss: 6.7496e-04 - accuracy: 0.0103 - val_loss: 0.0013 - val_accuracy: 0.0000e+00 - 242ms/epoch - 22ms/step\n",
      "Epoch 37/50\n",
      "11/11 - 0s - loss: 0.0010 - accuracy: 0.0103 - val_loss: 2.1601e-04 - val_accuracy: 0.0000e+00 - 244ms/epoch - 22ms/step\n",
      "Epoch 38/50\n",
      "11/11 - 0s - loss: 6.2757e-04 - accuracy: 0.0103 - val_loss: 3.4180e-04 - val_accuracy: 0.0000e+00 - 238ms/epoch - 22ms/step\n",
      "Epoch 39/50\n",
      "11/11 - 0s - loss: 8.0545e-04 - accuracy: 0.0103 - val_loss: 0.0017 - val_accuracy: 0.0000e+00 - 247ms/epoch - 22ms/step\n",
      "Epoch 40/50\n",
      "11/11 - 0s - loss: 6.1417e-04 - accuracy: 0.0103 - val_loss: 2.1971e-04 - val_accuracy: 0.0000e+00 - 260ms/epoch - 24ms/step\n",
      "Epoch 41/50\n",
      "11/11 - 0s - loss: 8.8009e-04 - accuracy: 0.0103 - val_loss: 0.0028 - val_accuracy: 0.0000e+00 - 265ms/epoch - 24ms/step\n",
      "Epoch 42/50\n",
      "11/11 - 0s - loss: 5.3661e-04 - accuracy: 0.0103 - val_loss: 3.7177e-04 - val_accuracy: 0.0000e+00 - 238ms/epoch - 22ms/step\n",
      "Epoch 43/50\n",
      "11/11 - 0s - loss: 6.5201e-04 - accuracy: 0.0103 - val_loss: 3.9109e-04 - val_accuracy: 0.0000e+00 - 243ms/epoch - 22ms/step\n",
      "Epoch 44/50\n",
      "11/11 - 0s - loss: 6.2348e-04 - accuracy: 0.0103 - val_loss: 2.2556e-04 - val_accuracy: 0.0000e+00 - 236ms/epoch - 21ms/step\n",
      "Epoch 45/50\n",
      "11/11 - 0s - loss: 6.8668e-04 - accuracy: 0.0103 - val_loss: 0.0014 - val_accuracy: 0.0000e+00 - 241ms/epoch - 22ms/step\n",
      "Epoch 46/50\n",
      "11/11 - 0s - loss: 5.9634e-04 - accuracy: 0.0103 - val_loss: 2.3157e-04 - val_accuracy: 0.0000e+00 - 241ms/epoch - 22ms/step\n",
      "Epoch 47/50\n",
      "11/11 - 0s - loss: 6.1453e-04 - accuracy: 0.0103 - val_loss: 8.8871e-04 - val_accuracy: 0.0000e+00 - 241ms/epoch - 22ms/step\n",
      "Epoch 48/50\n",
      "11/11 - 0s - loss: 4.7047e-04 - accuracy: 0.0103 - val_loss: 2.2112e-04 - val_accuracy: 0.0000e+00 - 238ms/epoch - 22ms/step\n",
      "Epoch 49/50\n",
      "11/11 - 0s - loss: 8.5010e-04 - accuracy: 0.0103 - val_loss: 3.4309e-04 - val_accuracy: 0.0000e+00 - 238ms/epoch - 22ms/step\n",
      "Epoch 50/50\n",
      "11/11 - 0s - loss: 2.9514e-04 - accuracy: 0.0103 - val_loss: 3.7484e-04 - val_accuracy: 0.0000e+00 - 241ms/epoch - 22ms/step\n"
     ]
    },
    {
     "data": {
      "text/plain": [
       "<keras.callbacks.History at 0x254d8245000>"
      ]
     },
     "execution_count": 17,
     "metadata": {},
     "output_type": "execute_result"
    }
   ],
   "source": [
    "model.fit(X_train, y_train, batch_size=256, epochs=50, validation_data = (X_test, y_test), verbose=2)"
   ]
  },
  {
   "cell_type": "code",
   "execution_count": 18,
   "metadata": {},
   "outputs": [
    {
     "name": "stdout",
     "output_type": "stream",
     "text": [
      "3/3 [==============================] - 0s 9ms/step - loss: 3.7484e-04 - accuracy: 0.0000e+00\n"
     ]
    }
   ],
   "source": [
    "score= model.evaluate(X_test, y_test, batch_size=256)"
   ]
  },
  {
   "cell_type": "code",
   "execution_count": 19,
   "metadata": {},
   "outputs": [
    {
     "name": "stdout",
     "output_type": "stream",
     "text": [
      "[0.00037484336644411087, 0.0]\n"
     ]
    }
   ],
   "source": [
    "print (score)"
   ]
  },
  {
   "cell_type": "code",
   "execution_count": 20,
   "metadata": {
    "tags": []
   },
   "outputs": [
    {
     "name": "stdout",
     "output_type": "stream",
     "text": [
      "19/19 [==============================] - 0s 4ms/step\n"
     ]
    }
   ],
   "source": [
    "y_pred= model.predict(X_test)"
   ]
  },
  {
   "cell_type": "code",
   "execution_count": 21,
   "metadata": {},
   "outputs": [
    {
     "data": {
      "image/png": "[encoded data removed]",
      "text/plain": [
       "<Figure size 432x288 with 1 Axes>"
      ]
     },
     "metadata": {
      "needs_background": "light"
     },
     "output_type": "display_data"
    }
   ],
   "source": [
    "plt.plot(y_pred, 'r-')\n",
    "plt.plot(y_test, 'b-')\n",
    "plt.show()"
   ]
  },
  {
   "cell_type": "code",
   "execution_count": 22,
   "metadata": {},
   "outputs": [
    {
     "name": "stdout",
     "output_type": "stream",
     "text": [
      "0.006569361867716609\n",
      "Root Mean Square Error:\n",
      "\n",
      "0.08105160003181065\n",
      "0.061419226823476065\n"
     ]
    }
   ],
   "source": [
    "import math\n",
    "MSE = np.square(np.subtract(y_test,y_pred)).mean() \n",
    "print (MSE)\n",
    "RMSE = math.sqrt(MSE)\n",
    "print(\"Root Mean Square Error:\\n\")\n",
    "print(RMSE)\n",
    "def mae(y_test, y_pred):\n",
    "    y_test, y_pred = np.array(y_test), np.array(y_pred)\n",
    "    return np.mean(np.abs(y_test - y_pred))\n",
    "print(mae(y_test, y_pred))"
   ]
  },
  {
   "cell_type": "code",
   "execution_count": 23,
   "metadata": {},
   "outputs": [
    {
     "data": {
      "image/png": "[encoded data removed]",
      "text/plain": [
       "<Figure size 432x288 with 1 Axes>"
      ]
     },
     "metadata": {
      "needs_background": "light"
     },
     "output_type": "display_data"
    }
   ],
   "source": [
    "plt.plot (y_pred, y_test, 'bo')\n",
    "plt.xlabel('y_pred')\n",
    "plt.ylabel('y_test')\n",
    "plt.show()"
   ]
  },
  {
   "cell_type": "code",
   "execution_count": null,
   "metadata": {
    "collapsed": true,
    "jupyter": {
     "outputs_hidden": true
    }
   },
   "outputs": [],
   "source": []
  },
  {
   "cell_type": "code",
   "execution_count": null,
   "metadata": {},
   "outputs": [],
   "source": []
  }
 ],
 "metadata": {
  "kernelspec": {
   "display_name": "Python 3 (ipykernel)",
   "language": "python",
   "name": "python3"
  },
  "language_info": {
   "codemirror_mode": {
    "name": "ipython",
    "version": 3
   },
   "file_extension": ".py",
   "mimetype": "text/x-python",
   "name": "python",
   "nbconvert_exporter": "python",
   "pygments_lexer": "ipython3",
   "version": "3.10.4"
  }
 },
 "nbformat": 4,
 "nbformat_minor": 4
}
